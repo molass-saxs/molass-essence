{
 "cells": [
  {
   "cell_type": "markdown",
   "id": "2d1bf44d",
   "metadata": {},
   "source": [
    "# Rg ― Radius of Gyration\n",
    "\n",
    "Consider how the sizes of particles with different shapes can be compared. $R_g$ can be used for that purpose.\n",
    "\n",
    "$R_g$ is computed (defined) as follows:\n",
    "\n",
    "* compute the center of mass (or density)\n",
    "* compute the weighted average of squared deviation from the center\n",
    "* compute the square root of the above avarage\n",
    "\n",
    "Using the known formula for $R_g$, the next code computes Rg's of several ellipsoids with different lenghts of semi-axes, $a$, $b$ and $c$."
   ]
  },
  {
   "cell_type": "code",
   "execution_count": null,
   "id": "7f050b85",
   "metadata": {},
   "outputs": [],
   "source": [
    "import numpy as np\n",
    "import matplotlib.pyplot as plt\n",
    "from molass.Shapes import Ellipsoid\n",
    "from molass.DensitySpace import VoxelSpace\n",
    "from molass.SAXS.Simulator import compute_saxs, draw_saxs\n",
    "\n",
    "fig, axes = plt.subplots(nrows=2, ncols=4, figsize=(16, 8), subplot_kw=dict(projection='3d'))\n",
    "\n",
    "for i in range(2):\n",
    "    for j in range(4):\n",
    "        ax = axes[i, j]\n",
    "        a = 16 * (2 - i)\n",
    "        b = 8 * (i + 1)\n",
    "        c = 2 * ((i + 1)*(j + 1))\n",
    "        rg = np.sqrt((a**2 + b**2 + c**2)/5)\n",
    "        ax.set_title(f'(a, b, c)={(a, b, c)}; $R_g={rg:.1f}$')\n",
    "        ellipsoid = Ellipsoid(a, b, c)\n",
    "        space = VoxelSpace(64, ellipsoid)\n",
    "        space.plot_as_dots(ax)"
   ]
  },
  {
   "cell_type": "markdown",
   "id": "51da0091",
   "metadata": {},
   "source": [
    "In the above plot, the shapes are defined with uniform density, meaning the density is uniformly one throughout each shape.\n",
    "The next plot illustrates this fact more clearly."
   ]
  },
  {
   "cell_type": "code",
   "execution_count": null,
   "id": "3a19590f",
   "metadata": {},
   "outputs": [],
   "source": [
    "import numpy as np\n",
    "import matplotlib.pyplot as plt\n",
    "from molass.Shapes import Ellipsoid\n",
    "from molass.DensitySpace import VoxelSpace\n",
    "\n",
    "fig, axes = plt.subplots(ncols=2, figsize=(10,5), subplot_kw=dict(projection='3d'))\n",
    "a, b, c = 16, 16, 16\n",
    "ellipsoid = Ellipsoid(a, b, c)\n",
    "space = VoxelSpace(64, ellipsoid)\n",
    "space.plot_with_density(axes)\n",
    "fig.tight_layout()"
   ]
  },
  {
   "cell_type": "markdown",
   "id": "8058f972",
   "metadata": {},
   "source": [
    "Next method computes $R_g$ without using the formula, namely by computing the square root of the weighted average of the squared deviations from the center."
   ]
  },
  {
   "cell_type": "code",
   "execution_count": null,
   "id": "d07ad585",
   "metadata": {},
   "outputs": [],
   "source": [
    "space.compute_rg()"
   ]
  },
  {
   "cell_type": "markdown",
   "id": "86261ee7",
   "metadata": {},
   "source": [
    "Confirm the concept with another plot that depicts a sphere with a Gaussian (non-uniform) density distribution."
   ]
  },
  {
   "cell_type": "code",
   "execution_count": null,
   "id": "738e943c",
   "metadata": {},
   "outputs": [],
   "source": [
    "from molass.DensitySpace import VoxelSpace\n",
    "from molass.DensitySpace.Densities import gaussian_density_for_demo\n",
    "fig, axes = plt.subplots(ncols=2, figsize=(10,5), subplot_kw=dict(projection='3d'))\n",
    "\n",
    "N = 64\n",
    "density = gaussian_density_for_demo(N)\n",
    "space = VoxelSpace(N, density=density)\n",
    "space.plot_with_density(axes)\n",
    "fig.tight_layout()"
   ]
  },
  {
   "cell_type": "markdown",
   "id": "749a5dbf",
   "metadata": {},
   "source": [
    "Compare this $R_g$ with the previous result."
   ]
  },
  {
   "cell_type": "code",
   "execution_count": null,
   "id": "dfe0af66",
   "metadata": {},
   "outputs": [],
   "source": [
    "space.compute_rg()"
   ]
  }
 ],
 "metadata": {
  "kernelspec": {
   "display_name": "Python 3",
   "language": "python",
   "name": "python3"
  },
  "language_info": {
   "codemirror_mode": {
    "name": "ipython",
    "version": 3
   },
   "file_extension": ".py",
   "mimetype": "text/x-python",
   "name": "python",
   "nbconvert_exporter": "python",
   "pygments_lexer": "ipython3",
   "version": "3.12.10"
  }
 },
 "nbformat": 4,
 "nbformat_minor": 5
}
