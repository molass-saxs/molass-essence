{
 "cells": [
  {
   "cell_type": "markdown",
   "id": "1dba3a7b",
   "metadata": {},
   "source": [
    "# Central Moment\n",
    "\n",
    "This section is a numerical introduction to the concept of central moment in the chromatographic context. Symbolic calculation will [later](characteristic_function) be introduced using [SymPy](https://www.sympy.org/en/index.html)."
   ]
  },
  {
   "cell_type": "markdown",
   "id": "2e00b0dd",
   "metadata": {},
   "source": [
    "## Simple Numerical Examples\n",
    "\n",
    "By \"chromatographic context\", the following points are suggested.\n",
    "\n",
    "* We will consider the averaging of retention time (x axes in the following figures),\n",
    "* weighted by concentration (y axes).\n",
    "\n",
    "### Uniformly weighted Average"
   ]
  },
  {
   "cell_type": "code",
   "execution_count": 1,
   "id": "05dcd8b4",
   "metadata": {},
   "outputs": [
    {
     "data": {
      "image/png": "[encoded data removed]",
      "text/plain": [
       "<Figure size 640x480 with 1 Axes>"
      ]
     },
     "metadata": {},
     "output_type": "display_data"
    }
   ],
   "source": [
    "import numpy as np\n",
    "import matplotlib.pyplot as plt\n",
    "\n",
    "N = 5\n",
    "x = np.arange(N)\n",
    "w = np.ones(N)     # uniform weights\n",
    "plt.bar(x, w)\n",
    "m = np.mean(x)\n",
    "s = np.std(x)\n",
    "plt.axvline(m, color='red')\n",
    "for p in m-s, m+s:\n",
    "    plt.axvline(p, color='yellow')"
   ]
  },
  {
   "cell_type": "markdown",
   "id": "26509beb",
   "metadata": {},
   "source": [
    "### Averaging with Guassian Weights"
   ]
  },
  {
   "cell_type": "code",
   "execution_count": 2,
   "id": "7f9d8bb1",
   "metadata": {},
   "outputs": [
    {
     "data": {
      "image/png": "[encoded data removed]",
      "text/plain": [
       "<Figure size 640x480 with 1 Axes>"
      ]
     },
     "metadata": {},
     "output_type": "display_data"
    }
   ],
   "source": [
    "w = np.exp(-(x-2.2)**2)    # non-uniform (gaussian) weights\n",
    "\n",
    "u = 0\n",
    "v = 0\n",
    "for i in range(N):\n",
    "    u += w[i]*x[i]\n",
    "    v += w[i]\n",
    "\n",
    "m = u/v\n",
    "\n",
    "z = 0\n",
    "v = 0\n",
    "for i in range(N):\n",
    "    z += w[i]*(x[i] - m)**2\n",
    "    v += w[i]\n",
    "    \n",
    "v, z, z/v, np.sqrt(z/v)\n",
    "\n",
    "s = np.sqrt(z/v)\n",
    "plt.bar(x, w)\n",
    "plt.axvline(m, color='red')\n",
    "for p in m-s, m+s:\n",
    "    plt.axvline(p, color='yellow')"
   ]
  },
  {
   "cell_type": "markdown",
   "id": "3c773c02",
   "metadata": {},
   "source": [
    "## Do it faster in NumPy\n",
    "### 0th Raw Moment"
   ]
  },
  {
   "cell_type": "code",
   "execution_count": 3,
   "id": "d8182679",
   "metadata": {},
   "outputs": [
    {
     "data": {
      "text/plain": [
       "1.772080571028074"
      ]
     },
     "execution_count": 3,
     "metadata": {},
     "output_type": "execute_result"
    }
   ],
   "source": [
    "M0 = np.sum(w)\n",
    "M0"
   ]
  },
  {
   "cell_type": "markdown",
   "id": "60524261",
   "metadata": {},
   "source": [
    "### 1st Raw Moment or Mean"
   ]
  },
  {
   "cell_type": "code",
   "execution_count": 4,
   "id": "a400fbce",
   "metadata": {},
   "outputs": [
    {
     "data": {
      "text/plain": [
       "2.199132225263884"
      ]
     },
     "execution_count": 4,
     "metadata": {},
     "output_type": "execute_result"
    }
   ],
   "source": [
    "M1 = np.sum(w*x)/M0\n",
    "M1"
   ]
  },
  {
   "cell_type": "markdown",
   "id": "7edee8df",
   "metadata": {},
   "source": [
    "### 2nd Central Moment and Standard Deviation"
   ]
  },
  {
   "cell_type": "code",
   "execution_count": 5,
   "id": "921dfdff",
   "metadata": {},
   "outputs": [
    {
     "data": {
      "text/plain": [
       "(0.49785237938665794, 0.7055865498906976)"
      ]
     },
     "execution_count": 5,
     "metadata": {},
     "output_type": "execute_result"
    }
   ],
   "source": [
    "M2 = np.sum(w*(x - M1)**2)/M0\n",
    "M2, np.sqrt(M2)"
   ]
  }
 ],
 "metadata": {
  "kernelspec": {
   "display_name": "Python 3",
   "language": "python",
   "name": "python3"
  },
  "language_info": {
   "codemirror_mode": {
    "name": "ipython",
    "version": 3
   },
   "file_extension": ".py",
   "mimetype": "text/x-python",
   "name": "python",
   "nbconvert_exporter": "python",
   "pygments_lexer": "ipython3",
   "version": "3.12.10"
  }
 },
 "nbformat": 4,
 "nbformat_minor": 5
}
