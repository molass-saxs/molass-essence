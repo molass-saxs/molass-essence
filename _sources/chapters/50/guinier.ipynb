{
 "cells": [
  {
   "cell_type": "markdown",
   "id": "a3c31cde",
   "metadata": {},
   "source": [
    "# Guinier Approximation"
   ]
  },
  {
   "cell_type": "markdown",
   "id": "53b9d58c",
   "metadata": {},
   "source": [
    "## Partilce Size and Scattering Curve\n",
    "\n",
    "Using the sphere scattering formula, observe how the particle size affects the scattering curve."
   ]
  },
  {
   "cell_type": "code",
   "execution_count": null,
   "id": "0e87af92",
   "metadata": {},
   "outputs": [],
   "source": [
    "from molass import get_version\n",
    "assert get_version() >= '0.6.1', 'Please update molass to the latest version'\n",
    "import numpy as np\n",
    "import matplotlib.pyplot as plt\n",
    "from molass.SAXS.Models.Formfactors import homogeneous_sphere\n",
    "\n",
    "q = np.linspace(0.005, 0.5, 100)\n",
    "R = 30\n",
    "\n",
    "I = homogeneous_sphere(q, R)\n",
    "fig, ax = plt.subplots()\n",
    "ax.set_yscale('log')\n",
    "for R in [10, 20, 30, 40, 50]:\n",
    "    I = homogeneous_sphere(q, R)\n",
    "    ax.plot(q, I, label=f'R = {R}')\n",
    "ax.legend();"
   ]
  },
  {
   "cell_type": "markdown",
   "id": "6b07debb",
   "metadata": {},
   "source": [
    "We can observe that, in the small-angle region, the larger the particle size, the steeper the slope of the curve."
   ]
  },
  {
   "cell_type": "markdown",
   "id": "6d81e060",
   "metadata": {},
   "source": [
    "## Guinier Plot\n",
    "\n"
   ]
  },
  {
   "cell_type": "code",
   "execution_count": null,
   "id": "7e60b214",
   "metadata": {},
   "outputs": [],
   "source": [
    "fig, axes = plt.subplots(nrows=2, ncols=4, figsize=(20, 8))\n",
    "\n",
    "q = np.linspace(0.005, 0.15, 100)\n",
    "\n",
    "for j, R in enumerate([20, 30, 40, 50]):\n",
    "    I = homogeneous_sphere(q, R)\n",
    "    ax1, ax2= axes[:,j]\n",
    "    ax1.set_title(f'Log Plot: R = {R}')\n",
    "    ax1.set_xlabel(r'$q$') \n",
    "    ax1.set_ylabel(r'$I$')\n",
    "    color = \"C%d\" % (j+1)\n",
    "    ax1.plot(q, I, label=f'R = {R}', color=color)\n",
    "    ax1.set_yscale('log')\n",
    "    ax1.legend()\n",
    "    ax2.set_title(f'Guinier Plot: R = {R}')\n",
    "    ax2.plot(q**2, np.log(I), label=f'R = {R}', color=color)\n",
    "    rg = R * np.sqrt(3/5)\n",
    "    limit = (1.3/rg)**2\n",
    "    ax2.axvline(limit, color='gray', linestyle='--', label=r'$q^2 = (1.3/R_g)^2$')\n",
    "    ax2.set_xlabel(r'$q^2$')\n",
    "    ax2.set_ylabel(r'$\\ln I$')\n",
    "    ax2.legend()\n",
    "\n",
    "plt.tight_layout()"
   ]
  }
 ],
 "metadata": {
  "kernelspec": {
   "display_name": "Python 3",
   "language": "python",
   "name": "python3"
  },
  "language_info": {
   "codemirror_mode": {
    "name": "ipython",
    "version": 3
   },
   "file_extension": ".py",
   "mimetype": "text/x-python",
   "name": "python",
   "nbconvert_exporter": "python",
   "pygments_lexer": "ipython3",
   "version": "3.12.10"
  }
 },
 "nbformat": 4,
 "nbformat_minor": 5
}
