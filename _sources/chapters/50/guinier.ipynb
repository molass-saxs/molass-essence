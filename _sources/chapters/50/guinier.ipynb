{
 "cells": [
  {
   "cell_type": "markdown",
   "id": "a3c31cde",
   "metadata": {},
   "source": [
    "# Guinier Approximation"
   ]
  },
  {
   "cell_type": "markdown",
   "id": "53b9d58c",
   "metadata": {},
   "source": [
    "## Partilce Size and Scattering Curve\n",
    "\n",
    "Using the sphere scattering formula, observe how the particle size affects the scattering curve."
   ]
  },
  {
   "cell_type": "code",
   "execution_count": null,
   "id": "0e87af92",
   "metadata": {},
   "outputs": [],
   "source": [
    "from molass import get_version\n",
    "assert get_version() >= '0.6.1', 'Please update molass to the latest version'\n",
    "import numpy as np\n",
    "import matplotlib.pyplot as plt\n",
    "from molass.SAXS.Models.Formfactors import homogeneous_sphere\n",
    "\n",
    "q = np.linspace(0.005, 0.5, 100)\n",
    "R = 30\n",
    "\n",
    "I = homogeneous_sphere(q, R)**2\n",
    "fig, ax = plt.subplots()\n",
    "ax.set_yscale('log')\n",
    "for R in [10, 20, 30, 40, 50]:\n",
    "    I = homogeneous_sphere(q, R)**2\n",
    "    ax.plot(q, I, label=f'R = {R}')\n",
    "ax.legend();"
   ]
  },
  {
   "cell_type": "markdown",
   "id": "6b07debb",
   "metadata": {},
   "source": [
    "We can observe that, in the small-angle region, the larger the particle size, the steeper the slope of the curve."
   ]
  },
  {
   "cell_type": "markdown",
   "id": "2d1bf44d",
   "metadata": {},
   "source": [
    "## Rg ― Radius of Gyration\n",
    "\n",
    "Consider how the sizes of particles with different shapes can be compared. $R_g$ can be used for that purpose."
   ]
  },
  {
   "cell_type": "code",
   "execution_count": null,
   "id": "7f050b85",
   "metadata": {},
   "outputs": [],
   "source": [
    "import numpy as np\n",
    "import matplotlib.pyplot as plt\n",
    "from molass.Shapes import Ellipsoid\n",
    "from molass.DensitySpace import VoxelSpace\n",
    "from molass.SAXS.Simulator import compute_saxs, draw_saxs\n",
    "\n",
    "fig, axes = plt.subplots(nrows=2, ncols=4, figsize=(16, 8), subplot_kw=dict(projection='3d'))\n",
    "\n",
    "for i in range(2):\n",
    "    for j in range(4):\n",
    "        ax = axes[i, j]\n",
    "        a = 16 * (2 - i)\n",
    "        b = 8 * (i + 1)\n",
    "        c = 2 * ((i + 1)*(j + 1))\n",
    "        rg = np.sqrt((a**2 + b**2 + c**2)/5)\n",
    "        ax.set_title(f'(a, b, c)={(a, b, c)}; $R_g={rg:.1f}$')\n",
    "        ellipsoid = Ellipsoid(a, b, c)\n",
    "        space = VoxelSpace(64, ellipsoid)\n",
    "        space.plot_as_dots(ax)"
   ]
  },
  {
   "cell_type": "markdown",
   "id": "51da0091",
   "metadata": {},
   "source": [
    "In the above plot, the shapes are defined with uniform density, meaning the density is uniformly one throughout each shape.\n",
    "The next plot illustrates this fact more clearly."
   ]
  },
  {
   "cell_type": "code",
   "execution_count": null,
   "id": "3a19590f",
   "metadata": {},
   "outputs": [],
   "source": [
    "import numpy as np\n",
    "import matplotlib.pyplot as plt\n",
    "from molass.Shapes import Ellipsoid\n",
    "from molass.DensitySpace import VoxelSpace\n",
    "\n",
    "fig, axes = plt.subplots(ncols=2, figsize=(10,5), subplot_kw=dict(projection='3d'))\n",
    "a, b, c = 16, 16, 16\n",
    "ellipsoid = Ellipsoid(a, b, c)\n",
    "space = VoxelSpace(64, ellipsoid)\n",
    "space.plot_with_density(axes)\n",
    "fig.tight_layout()"
   ]
  },
  {
   "cell_type": "code",
   "execution_count": null,
   "id": "d07ad585",
   "metadata": {},
   "outputs": [],
   "source": [
    "space.compute_rg()"
   ]
  },
  {
   "cell_type": "markdown",
   "id": "86261ee7",
   "metadata": {},
   "source": [
    "Confirm the concept with another plot that depicts a sphere with a Gaussian (non-uniform) density distribution."
   ]
  },
  {
   "cell_type": "code",
   "execution_count": null,
   "id": "738e943c",
   "metadata": {},
   "outputs": [],
   "source": [
    "from molass.DensitySpace import VoxelSpace\n",
    "from molass.DensitySpace.Densities import gaussian_density_for_demo\n",
    "fig, axes = plt.subplots(ncols=2, figsize=(10,5), subplot_kw=dict(projection='3d'))\n",
    "\n",
    "N = 64\n",
    "density = gaussian_density_for_demo(N)\n",
    "space = VoxelSpace(N, density=density)\n",
    "space.plot_with_density(axes)\n",
    "fig.tight_layout()"
   ]
  },
  {
   "cell_type": "code",
   "execution_count": null,
   "id": "dfe0af66",
   "metadata": {},
   "outputs": [],
   "source": [
    "space.compute_rg()"
   ]
  },
  {
   "cell_type": "markdown",
   "id": "0c946c56",
   "metadata": {},
   "source": [
    "## Rg - Standard Deviation Equivalence\n",
    "\n",
    "It might be helpful to be aware of the following equivalence:\n",
    " \n",
    "The radius of gyration ($R_g$) is mathematically the square root of the second central moment (variance) of the mass (or density) distribution about its center of mass.\n",
    "In other words, $R_g^2$ is the weighted average squared distance from the center of mass, which is exactly the second central moment.\n",
    "Or more shortly, $R_g$ is the standard deviation of the mass (or density) distribution."
   ]
  },
  {
   "cell_type": "markdown",
   "id": "6d81e060",
   "metadata": {},
   "source": [
    "## Guinier Plot\n",
    "\n"
   ]
  },
  {
   "cell_type": "code",
   "execution_count": null,
   "id": "7e60b214",
   "metadata": {},
   "outputs": [],
   "source": [
    "fig, axes = plt.subplots(nrows=2, ncols=4, figsize=(20, 8))\n",
    "\n",
    "q = np.linspace(0.005, 0.15, 100)\n",
    "\n",
    "for j, R in enumerate([20, 30, 40, 50]):\n",
    "    I = homogeneous_sphere(q, R)**2\n",
    "    ax1, ax2= axes[:,j]\n",
    "    ax1.set_title(f'Log Plot: R = {R}')\n",
    "    ax1.set_xlabel(r'$q$') \n",
    "    ax1.set_ylabel(r'$I$')\n",
    "    ax1.plot(q, I, label=f'R = {R}')\n",
    "    ax1.set_yscale('log')\n",
    "    ax1.legend()\n",
    "    ax2.set_title(f'Guinier Plot: R = {R}')\n",
    "    ax2.plot(q**2, np.log(I), label=f'R = {R}')\n",
    "    rg = R * np.sqrt(3/5)\n",
    "    limit = (1.3/rg)**2\n",
    "    ax2.axvline(limit, color='gray', linestyle='--', label=r'$q^2 = (1.3/R_g)^2$')\n",
    "    ax2.set_xlabel(r'$q^2$')\n",
    "    ax2.set_ylabel(r'$\\ln I$')\n",
    "    ax2.legend()\n",
    "\n",
    "plt.tight_layout()"
   ]
  }
 ],
 "metadata": {
  "kernelspec": {
   "display_name": "Python 3",
   "language": "python",
   "name": "python3"
  },
  "language_info": {
   "codemirror_mode": {
    "name": "ipython",
    "version": 3
   },
   "file_extension": ".py",
   "mimetype": "text/x-python",
   "name": "python",
   "nbconvert_exporter": "python",
   "pygments_lexer": "ipython3",
   "version": "3.12.10"
  }
 },
 "nbformat": 4,
 "nbformat_minor": 5
}
