{
 "cells": [
  {
   "cell_type": "markdown",
   "id": "a3c31cde",
   "metadata": {},
   "source": [
    "# Bounded Structure Factorization\n",
    "\n",
    "```{note}\n",
    "Strictly speaking, it might be more accurate to call this “bounded structure factor low rank factorization.” However, for brevity, we refer to it as “bounded structure factorization.”\n",
    "```"
   ]
  },
  {
   "cell_type": "code",
   "execution_count": null,
   "id": "4b7d7db4",
   "metadata": {},
   "outputs": [],
   "source": [
    "from molass import get_version\n",
    "assert get_version() >= '0.5.0', \"This tutorial requires molass version 0.5.0 or higher.\"\n",
    "from molass.SAXS.Theory.SolidSphere import demo4\n",
    "demo4()"
   ]
  },
  {
   "cell_type": "code",
   "execution_count": null,
   "id": "975f39ba",
   "metadata": {},
   "outputs": [],
   "source": [
    "from molass.SAXS.Theory.SfBound import demo\n",
    "demo()"
   ]
  }
 ],
 "metadata": {
  "kernelspec": {
   "display_name": "Python 3",
   "language": "python",
   "name": "python3"
  },
  "language_info": {
   "codemirror_mode": {
    "name": "ipython",
    "version": 3
   },
   "file_extension": ".py",
   "mimetype": "text/x-python",
   "name": "python",
   "nbconvert_exporter": "python",
   "pygments_lexer": "ipython3",
   "version": "3.12.10"
  }
 },
 "nbformat": 4,
 "nbformat_minor": 5
}
