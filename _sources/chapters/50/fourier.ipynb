{
 "cells": [
  {
   "cell_type": "markdown",
   "id": "a3c31cde",
   "metadata": {},
   "source": [
    "# Fourier Transform - from Density to Scattering"
   ]
  },
  {
   "cell_type": "code",
   "execution_count": null,
   "id": "f5eea8c1",
   "metadata": {},
   "outputs": [],
   "source": [
    "from molass import get_version\n",
    "assert get_version() >= '0.5.2', \"This tutorial requires molass version 0.5.2 or higher.\"\n",
    "import numpy as np\n",
    "import matplotlib.pyplot as plt\n",
    "from molass.Shapes import Sphere\n",
    "from molass.DensitySpace import VoxelSpace\n",
    "from molass.SAXS.Simulator import compute_saxs\n",
    "from molass.SAXS.Models.Formfactors import homogeneous_sphere\n",
    "%matplotlib widget\n",
    "\n",
    "q = np.linspace(0.005, 0.7, 100)\n",
    "R = 30\n",
    "\n",
    "I = homogeneous_sphere(q, R)\n",
    "\n",
    "sphere = Sphere(radius=10)\n",
    "space = VoxelSpace(64, sphere)\n",
    "saxs = compute_saxs(space.rho, q=q, dmax=64)\n",
    "\n",
    "fig = plt.figure(figsize=(12, 5))\n",
    "fig.suptitle('SAXS Simulation of a Homogeneous Sphere')\n",
    "ax1 = fig.add_subplot(121, projection='3d')\n",
    "ax1.set_title('Electron density')\n",
    "space.plot_as_dots(ax1)\n",
    "\n",
    "ax2 = fig.add_subplot(122)\n",
    "ax2.set_title('SAXS intensity')\n",
    "ax2.set_yscale('log')\n",
    "ax2.plot(q, I, label='Analitical formula')\n",
    "curve = saxs.get_curve()\n",
    "ax2.plot(q, curve.y, label='Fourier transform simulation')\n",
    "ax2.legend()\n",
    "ax2.set_xlabel('q (1/Å)')"
   ]
  },
  {
   "cell_type": "code",
   "execution_count": null,
   "id": "25c190cc",
   "metadata": {},
   "outputs": [],
   "source": [
    "from importlib import reload\n",
    "import molass.SAXS.Models.Formfactors\n",
    "reload(molass.SAXS.Models.Formfactors)\n",
    "from molass.SAXS.Models.Formfactors import tri_axial_ellipsoid\n",
    "I = tri_axial_ellipsoid(q, 30, 24, 18)\n",
    "fig, (ax1, ax2) = plt.subplots(ncols=2, figsize=(10, 5))\n",
    "ax2.set_yscale('log')\n",
    "for ax in ax1, ax2:\n",
    "    ax.plot(q, I, label='tri_axial_ellipsoid')"
   ]
  },
  {
   "cell_type": "code",
   "execution_count": null,
   "id": "53297bbc",
   "metadata": {},
   "outputs": [],
   "source": [
    "from molass.Shapes import Ellipsoid\n",
    "from molass.DensitySpace import VoxelSpace\n",
    "from molass.SAXS.Simulator import compute_saxs, draw_saxs\n",
    "\n",
    "ellipsoid = Ellipsoid(10, 8, 6)\n",
    "space = VoxelSpace(64, ellipsoid)\n",
    "saxs = compute_saxs(space.rho, q=q, dmax=64)\n",
    "\n",
    "fig = plt.figure(figsize=(12, 5))\n",
    "fig.suptitle('SAXS Simulation of a Tri-axial Ellipsoid')\n",
    "ax1 = fig.add_subplot(121, projection='3d')\n",
    "ax1.set_title('Electron density')\n",
    "space.plot_as_dots(ax1)\n",
    "\n",
    "ax2 = fig.add_subplot(122)\n",
    "ax2.set_title('SAXS intensity')\n",
    "ax2.set_yscale('log')\n",
    "ax2.plot(q, I, label='Tri-axial Ellipsoid')\n",
    "curve = saxs.get_curve()\n",
    "ax2.plot(q, curve.y, label='Fourier transform simulation')\n",
    "ax2.legend()\n",
    "ax2.set_xlabel('q (1/Å)')"
   ]
  }
 ],
 "metadata": {
  "kernelspec": {
   "display_name": "Python 3",
   "language": "python",
   "name": "python3"
  },
  "language_info": {
   "codemirror_mode": {
    "name": "ipython",
    "version": 3
   },
   "file_extension": ".py",
   "mimetype": "text/x-python",
   "name": "python",
   "nbconvert_exporter": "python",
   "pygments_lexer": "ipython3",
   "version": "3.12.10"
  }
 },
 "nbformat": 4,
 "nbformat_minor": 5
}
