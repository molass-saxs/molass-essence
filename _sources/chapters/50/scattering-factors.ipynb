{
 "cells": [
  {
   "cell_type": "markdown",
   "id": "a3c31cde",
   "metadata": {},
   "source": [
    "# Form and Structure Factors\n",
    "\n",
    "## Form Factor\n",
    "\n",
    "See {cite}`Gommes:gj5274`.\n",
    "\n",
    "$$ \\langle|A|^2\\rangle = N|a|^2 $$\n",
    "\n",
    "$$ I(q) = c\\rho^2V^2P(q) $$\n"
   ]
  },
  {
   "cell_type": "markdown",
   "id": "2ae83987",
   "metadata": {},
   "source": [
    "## Structure Factor\n",
    "\n",
    "$$ \\langle|A|^2\\rangle \\simeq n_aN|a|^2 $$\n",
    "\n",
    "$$ I(q) = c\\rho^2V^2P(q)S(q) $$"
   ]
  },
  {
   "cell_type": "markdown",
   "id": "d626ed1b",
   "metadata": {},
   "source": [
    "## Form Factor Models"
   ]
  },
  {
   "cell_type": "code",
   "execution_count": null,
   "id": "d5dad215",
   "metadata": {},
   "outputs": [],
   "source": [
    "import numpy as np\n",
    "import matplotlib.pyplot as plt\n",
    "from molass.SAXS.Models.Formfactors import homogeneous_sphere\n",
    "\n",
    "q = np.linspace(0.005, 0.7, 100)\n",
    "R = 30\n",
    "\n",
    "I = homogeneous_sphere(q, R)**2\n",
    "fig, (ax1, ax2) = plt.subplots(ncols=2, figsize=(10, 5))\n",
    "ax2.set_yscale('log')\n",
    "for ax in ax1, ax2:\n",
    "    ax.plot(q, I, label='homogeneous sphere')"
   ]
  },
  {
   "cell_type": "markdown",
   "id": "08b16feb",
   "metadata": {},
   "source": [
    "## Structure Factor Models"
   ]
  },
  {
   "cell_type": "code",
   "execution_count": null,
   "id": "269766bb",
   "metadata": {},
   "outputs": [],
   "source": [
    "from molass import get_version\n",
    "assert get_version() >= '0.5.0', \"This tutorial requires molass version 0.5.0 or higher.\"\n",
    "from molass.SAXS.Theory.DjKinning1984 import demo1\n",
    "demo1()"
   ]
  }
 ],
 "metadata": {
  "kernelspec": {
   "display_name": "Python 3",
   "language": "python",
   "name": "python3"
  },
  "language_info": {
   "codemirror_mode": {
    "name": "ipython",
    "version": 3
   },
   "file_extension": ".py",
   "mimetype": "text/x-python",
   "name": "python",
   "nbconvert_exporter": "python",
   "pygments_lexer": "ipython3",
   "version": "3.12.10"
  }
 },
 "nbformat": 4,
 "nbformat_minor": 5
}
