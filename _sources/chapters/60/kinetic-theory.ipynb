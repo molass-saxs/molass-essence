{
 "cells": [
  {
   "cell_type": "markdown",
   "id": "a3c31cde",
   "metadata": {},
   "source": [
    "# Kinetic Theory\n",
    "\n"
   ]
  },
  {
   "cell_type": "markdown",
   "id": "3c76eac2",
   "metadata": {},
   "source": [
    "SDM ≈ LKM ⊃ EDM {cite}`Ur2021`\n",
    "\n",
    "\n",
    "```{figure} ../../_static/images/sdm-lkm-equivalence.jpg\n",
    ":name: sdm-lkm-equivalence\n",
    "\n",
    "SDM-LKM Equivalence\n",
    "```"
   ]
  }
 ],
 "metadata": {
  "language_info": {
   "name": "python"
  }
 },
 "nbformat": 4,
 "nbformat_minor": 5
}
