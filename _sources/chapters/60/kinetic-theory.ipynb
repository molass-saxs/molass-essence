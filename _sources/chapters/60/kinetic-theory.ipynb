{
 "cells": [
  {
   "cell_type": "markdown",
   "id": "a3c31cde",
   "metadata": {},
   "source": [
    "# Kinetic Theory\n",
    "\n",
    "## Rate Theory Models\n",
    "\n",
    "In contrast to the stochastic models, there are models derived from the following differential equation known as the `transport-dispersive equation` (or the `convection-diffusion equation`).\n",
    "\n",
    "$$ \\frac{\\partial C}{\\partial t} + u \\frac{\\partial C}{\\partial x} = D \\frac{\\partial^2 C}{\\partial x^2} - k(C - C^*) $$\n",
    "\n",
    "where:\n",
    "\n",
    "* $C$ is the solute concentration in the mobile phase,\n",
    "* $C^*$ is the concentration in the stationary phase,\n",
    "* $u$ is the linear velocity of the mobile phase,\n",
    "* $D$ is the axial dispersion coefficient,\n",
    "* $k$ is the rate constant for exchange between phases,\n",
    "* $x$ is the position along the column,\n",
    "* $t$ is time.\n",
    "\n",
    "These models are often classified into the following three according to the levels of simplification.\n",
    "\n",
    "\n",
    "| Model         | Mass Transfer Kinetics      | Axial Dispersion | Phase Equilibrium      |\n",
    "|---------------|----------------------------|------------------|-----------------------|\n",
    "| GRM           | Explicit, detailed         | Yes              | Non-instantaneous     |\n",
    "| LKM           | Lumped, simplified         | Yes              | Non-instantaneous     |\n",
    "| EDM           | Neglected (instantaneous)  | Yes              | Instantaneous         |\n",
    "\n",
    "Simply in set inclusion notation:\n",
    "\n",
    "$$  GRM \\supseteq LKM \\supseteq EDM $$"
   ]
  },
  {
   "cell_type": "markdown",
   "id": "1184e64d",
   "metadata": {},
   "source": [
    "## Equilibrium Dispersive Model\n",
    "\n",
    "Rate theory models are usually computed numerically because the differential equation can be solved analytically only in special cases. However, for EDM, {cite}`Ur2021` solved it analytically under applicable conditions, which we use as an additional constraint to improve the decomposition."
   ]
  },
  {
   "cell_type": "markdown",
   "id": "4354094e",
   "metadata": {},
   "source": []
  }
 ],
 "metadata": {
  "language_info": {
   "name": "python"
  }
 },
 "nbformat": 4,
 "nbformat_minor": 5
}
