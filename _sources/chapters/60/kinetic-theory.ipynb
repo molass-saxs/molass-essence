{
 "cells": [
  {
   "cell_type": "markdown",
   "id": "a3c31cde",
   "metadata": {},
   "source": [
    "# Kinetic Theory\n",
    "\n",
    "## Rate Theory\n",
    "\n",
    "* General Rate Model \n",
    "* Lumped Kinetic Model\n",
    "* Equlirium Dispersive Model"
   ]
  },
  {
   "cell_type": "markdown",
   "id": "1184e64d",
   "metadata": {},
   "source": [
    "## Equilibrium Dispersive Model\n",
    "\n",
    "{cite}`Ur2021`"
   ]
  },
  {
   "cell_type": "markdown",
   "id": "c0d7fbfb",
   "metadata": {},
   "source": [
    "## SDM-LKM Equivalence\n",
    "\n",
    "SDM ≈ LKM ⊃ EDM \n",
    "\n",
    "```{figure} ../../_static/images/sdm-lkm-equivalence.jpg\n",
    ":name: sdm-lkm-equivalence\n",
    "\n",
    "SDM-LKM Equivalence\n",
    "```"
   ]
  }
 ],
 "metadata": {
  "language_info": {
   "name": "python"
  }
 },
 "nbformat": 4,
 "nbformat_minor": 5
}
