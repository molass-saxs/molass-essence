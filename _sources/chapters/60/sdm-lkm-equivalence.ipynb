{
 "cells": [
  {
   "cell_type": "markdown",
   "id": "7470ca91",
   "metadata": {},
   "source": [
    "# SDM-LKM Equivalence\n",
    "\n",
    "## Relation among DSM, LKM and EDM\n",
    "With regard to the relation to the stochastic models, there is a notable paper {cite}`FELINGER2004149` which suggests:\n",
    "\n",
    "$$ SDM \\sim LKM \\supseteq EDM $$\n",
    "\n",
    "```{note}\n",
    "This equivalence, in our application, is under investigation.\n",
    "```\n",
    "\n",
    "```{figure} ../../_static/images/sdm-lkm-equivalence.jpg\n",
    ":name: sdm-lkm-equivalence\n",
    "\n",
    "SDM-LKM Equivalence\n",
    "```"
   ]
  },
  {
   "cell_type": "markdown",
   "id": "c0f684cb",
   "metadata": {},
   "source": [
    "## Notation Correspondence in Relevant Papers\n",
    "\n",
    "Here are summarized notational correspondence among the relevant papers:\n",
    "\n",
    "* Dondi, 2002 {cite}`DONDI2002185`\n",
    "* Felinger, 2004 {cite}`FELINGER2004149`\n",
    "* Rheman, 2021 {cite}`Ur2021`\n",
    "\n",
    "```{list-table} Summary of Notational Correspondence between SDM and { LKM $\\supseteq$ EDM }\n",
    ":header-rows: 1\n",
    ":name: param-correspondence-table\n",
    "\n",
    "* - Dondi-2002 SDM\n",
    "  - Felinger-2004 LKM\n",
    "  - Rehman-2021 EDM\n",
    "  - Parameter Despription\n",
    "* - $ N_0 $\n",
    "  - $ N_d = \\frac{Lu}{2D} $\n",
    "  - $ \\frac{Lu}{2D_z} $\n",
    "  - Number of Plates in Mobile Zone; $ N_0 = N_d = (\\frac{t_0}{\\sigma_0})^2 $\n",
    "* - $ n_i $\n",
    "  - $ N_m $\n",
    "  -\n",
    "  - Average Number of Stays in Stagnant Zone; $N_m=F k_a t_0 = k' k_d t_0 $; $ k' = \\frac{F k_a}{k_d} $\n",
    "* - $ \\tau_i $\n",
    "  - $\\frac{1}{k_d} $\n",
    "  -\n",
    "  - Average Time of Stays in Stagnant Zone; $ \\frac{1}{k_d} = \\frac{k' t_0}{N_m} $\n",
    "* - $ K_{SEC} $\n",
    "  - $ e $ (porosity)\n",
    "  - $ e $ (porosity)\n",
    "  - $ \\rho = \\min(1, \\frac{R_g}{R_p}) $ ; $ K_{SEC} = (1 - \\rho)^m $ ; $ (K_{SEC})^{\\frac{1}{m}} = 1 - \\rho $ ; $ R_g \\sim R_p(1 - porosity^{\\frac{1}{m}}) $\n",
    "```"
   ]
  },
  {
   "cell_type": "markdown",
   "id": "bab8ad03",
   "metadata": {},
   "source": [
    "## SymPy Examples to Understand the Papers\n",
    "\n",
    "To follow the papers, you can use [SymPy](https://www.sympy.org/en/index.html). Here are some examples."
   ]
  },
  {
   "cell_type": "code",
   "execution_count": null,
   "id": "b4df4966-ad44-42be-bccb-c53cc2551db2",
   "metadata": {},
   "outputs": [],
   "source": [
    "from sympy import symbols, Eq, Function, dsolve"
   ]
  },
  {
   "cell_type": "code",
   "execution_count": null,
   "id": "ab6067c7-d7e6-4d73-8391-cf2878399d6c",
   "metadata": {},
   "outputs": [
    {
     "data": {
      "text/plain": [
       "[Eq(f(x), -C1*exp(-x) + C2*exp(x)), Eq(g(x), C1*exp(-x) + C2*exp(x))]"
      ]
     },
     "execution_count": 2,
     "metadata": {},
     "output_type": "execute_result"
    }
   ],
   "source": [
    "f, g = symbols(\"f g\", cls=Function)\n",
    "x = symbols(\"x\")\n",
    "eqs = [Eq(f(x).diff(x), g(x)), Eq(g(x).diff(x), f(x))]\n",
    "dsolve(eqs, [f(x), g(x)])"
   ]
  },
  {
   "cell_type": "code",
   "execution_count": null,
   "id": "fff83ec6-b1e8-418e-9f24-49c01a0868a6",
   "metadata": {},
   "outputs": [
    {
     "data": {
      "text/plain": [
       "[Eq(f(x), (1 + 3*exp(2))*exp(x)/(1 + exp(4)) - (-exp(4) + 3*exp(2))*exp(-x)/(1 + exp(4))),\n",
       " Eq(g(x), (1 + 3*exp(2))*exp(x)/(1 + exp(4)) + (-exp(4) + 3*exp(2))*exp(-x)/(1 + exp(4)))]"
      ]
     },
     "execution_count": 3,
     "metadata": {},
     "output_type": "execute_result"
    }
   ],
   "source": [
    "dsolve(eqs, [f(x), g(x)], ics={f(0): 1, g(2): 3})"
   ]
  },
  {
   "cell_type": "code",
   "execution_count": null,
   "id": "83352c43-85c6-4fda-bb2a-d354252f3c0c",
   "metadata": {},
   "outputs": [
    {
     "data": {
      "text/latex": [
       "$\\displaystyle f{\\left(x \\right)} = \\frac{2 e^{x}}{e}$"
      ],
      "text/plain": [
       "Eq(f(x), 2*exp(-1)*exp(x))"
      ]
     },
     "execution_count": 4,
     "metadata": {},
     "output_type": "execute_result"
    }
   ],
   "source": [
    "eqn = Eq(f(x).diff(x), f(x))\n",
    "dsolve(eqn, f(x), ics={f(x).diff(x).subs(x, 1): 2})"
   ]
  },
  {
   "cell_type": "code",
   "execution_count": null,
   "id": "ba1ceb71-1acd-4a12-baec-5d47e15c6640",
   "metadata": {},
   "outputs": [
    {
     "data": {
      "text/latex": [
       "$\\displaystyle y{\\left(t \\right)}$"
      ],
      "text/plain": [
       "y(t)"
      ]
     },
     "execution_count": 5,
     "metadata": {},
     "output_type": "execute_result"
    }
   ],
   "source": [
    "from sympy import symbols, Function, dsolve\n",
    "t = symbols('t')\n",
    "y = Function('y')(t)\n",
    "y"
   ]
  },
  {
   "cell_type": "code",
   "execution_count": null,
   "id": "6f295509-ae5e-46b2-92eb-430391cd0220",
   "metadata": {},
   "outputs": [
    {
     "data": {
      "text/latex": [
       "$\\displaystyle y{\\left(t \\right)} + 2 \\frac{d}{d t} y{\\left(t \\right)} + \\frac{d^{2}}{d t^{2}} y{\\left(t \\right)}$"
      ],
      "text/plain": [
       "y(t) + 2*Derivative(y(t), t) + Derivative(y(t), (t, 2))"
      ]
     },
     "execution_count": 6,
     "metadata": {},
     "output_type": "execute_result"
    }
   ],
   "source": [
    "yp = y.diff(t)\n",
    "ypp = yp.diff(t)\n",
    "eq = ypp + 2*yp + y\n",
    "eq"
   ]
  },
  {
   "cell_type": "code",
   "execution_count": null,
   "id": "04b4c73a-d043-406a-9ca6-34278137e8a7",
   "metadata": {},
   "outputs": [
    {
     "data": {
      "text/latex": [
       "$\\displaystyle y{\\left(t \\right)} = \\left(C_{1} + C_{2} t\\right) e^{- t}$"
      ],
      "text/plain": [
       "Eq(y(t), (C1 + C2*t)*exp(-t))"
      ]
     },
     "execution_count": 7,
     "metadata": {},
     "output_type": "execute_result"
    }
   ],
   "source": [
    "dsolve(eq, y)"
   ]
  },
  {
   "cell_type": "code",
   "execution_count": null,
   "id": "efb68eca-5917-4d88-bbb1-8f1d3ef6f56e",
   "metadata": {},
   "outputs": [
    {
     "data": {
      "text/latex": [
       "$\\displaystyle y{\\left(t \\right)} = C_{2} t e^{- t}$"
      ],
      "text/plain": [
       "Eq(y(t), C2*t*exp(-t))"
      ]
     },
     "execution_count": 8,
     "metadata": {},
     "output_type": "execute_result"
    }
   ],
   "source": [
    "dsolve(eq, y, ics={y.subs(t, 0): 0})"
   ]
  },
  {
   "cell_type": "code",
   "execution_count": null,
   "id": "1a188997-be80-4abf-b3ec-c5b1c609251a",
   "metadata": {},
   "outputs": [],
   "source": []
  }
 ],
 "metadata": {
  "kernelspec": {
   "display_name": "Python 3",
   "language": "python",
   "name": "python3"
  },
  "language_info": {
   "codemirror_mode": {
    "name": "ipython",
    "version": 3
   },
   "file_extension": ".py",
   "mimetype": "text/x-python",
   "name": "python",
   "nbconvert_exporter": "python",
   "pygments_lexer": "ipython3",
   "version": "3.12.10"
  }
 },
 "nbformat": 4,
 "nbformat_minor": 5
}
