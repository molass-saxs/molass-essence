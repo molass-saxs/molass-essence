{
 "cells": [
  {
   "cell_type": "markdown",
   "id": "a3c31cde",
   "metadata": {},
   "source": [
    "# Stochastic Theory\n",
    "\n",
    "## Brief History of the Stochastic Theory of SEC\n",
    "\n",
    "Let us recap the history with the following excerpts from {cite}`DONDI2002185`:\n",
    "\n",
    "* The stochastic theory of chromatography, originally conceived by Giddings and Eyring in 1955 {cite}`Giddings_1955`, was recast by Carmichael to represent SEC processes \n",
    "\n",
    "* Several important contributions to stochastic theory of chromatography appeared after the original Carmichael’s work on SEC. \n",
    "\n",
    "* However this advancement leads to complex mathematics.\n",
    "\n",
    "* With the introduction of the characteristic function (CF) method, the mathematical intractability was completely overcome.\n"
   ]
  },
  {
   "cell_type": "markdown",
   "id": "768432b4",
   "metadata": {},
   "source": [
    "## Model Summary\n",
    "\n",
    "See the summary of developed models in the following tables.\n",
    "\n",
    "```{list-table} Charasteristic Functions of Stochastic Models\n",
    ":header-rows: 1\n",
    ":name: charfunctions-table\n",
    "\n",
    "* - Model Name\n",
    "  - Charasteristic Function\n",
    "  - PDF formula\n",
    "* - GEC Monopore\n",
    "  - $ \\phi(\\omega)=\\exp \\Big[ i \\omega t_0 + n_1(\\frac{1}{1 - i \\omega \\tau_1} - 1) \\Big] $\n",
    "  - Available\n",
    "* - Dispersive Monopore\n",
    "  - $ \\phi(\\omega)=\\exp \\Big[ z + \\frac{1}{2 N_0}z^2 \\Big]; \\quad z = i \\omega t_0 + n_1(\\frac{1}{1 - i \\omega \\tau_1} - 1) $\n",
    "  - NA\n",
    "* - GEC Lognormalpore\n",
    "  - $ \\phi(\\omega)= \\exp \\Big[ i \\omega t_0 +  \\int_{R_g}^\\infty L_{\\mu,\\sigma}(r) n_r(\\frac{1}{1-i \\omega \\tau_r} - 1) dr \\Big] $\n",
    "  - NA\n",
    "* - GEC N-pore\n",
    "  - $ \\phi(\\omega)= \\exp \\Big[ i \\omega t_0 +  \\sum_{k=1}^N p_{k}n_{k}(\\frac{1}{1-i \\omega \\tau_{k}} - 1) \\Big] $\n",
    "  - NA\n",
    "```\n",
    "\n",
    "The PDF formula is available only for GEC monopore model while those of other models are only numerically computable.\n",
    "\n",
    "```{list-table} Moments of Stochastic Models\n",
    ":header-rows: 1\n",
    ":name: moments-table\n",
    "\n",
    "* - Model Name\n",
    "  - $M_1$\n",
    "  - $\\bar{M_2}$\n",
    "* - GEC Monopore\n",
    "  - $ t_0 + n_1 \\tau_1 $\n",
    "  - $ 2 n_1 \\tau_1^2 $\n",
    "* - Dispersive Monopore\n",
    "  - $ t_0 + n_1 \\tau_1 $\n",
    "  - $ 2 n_1 \\tau_1^2 + \\frac{ (t_0 + n_1 \\tau_1)^2 }{N_0}$\n",
    "* - GEC Lognormalpore\n",
    "  - $ t_0 + \\int_{R_g}^\\infty L_{\\mu,\\sigma}(r) n_r \\tau_r dr $\n",
    "  - $ 2 \\int_{R_g}^\\infty L_{\\mu,\\sigma}(r) n_r \\tau_r^2 dr $\n",
    "* - GEC N-pore\n",
    "  - $ t_0 + \\sum_{k=1}^N p_k n_k \\tau_k $\n",
    "  - $ 2 \\sum_{k=1}^N p_k n_k \\tau_k^2 $\n",
    "```"
   ]
  },
  {
   "cell_type": "markdown",
   "id": "a2e19f6c",
   "metadata": {},
   "source": [
    "## Stochastic Dispersive Model\n",
    "\n",
    "While the above summary outlines the development of the theory, the model we have chosen to use is the stochastic dispersive model {cite}`Felinger1999` (in its monopore form).\n",
    "\n",
    "The reasons are as follows:\n",
    "\n",
    "* When accounting for dispersion, other models consider only the stationary phase, not the mobile phase.\n",
    "* For the current use of the model, the monopore form is preferable to avoid computational complexity."
   ]
  }
 ],
 "metadata": {
  "language_info": {
   "name": "python"
  }
 },
 "nbformat": 4,
 "nbformat_minor": 5
}
