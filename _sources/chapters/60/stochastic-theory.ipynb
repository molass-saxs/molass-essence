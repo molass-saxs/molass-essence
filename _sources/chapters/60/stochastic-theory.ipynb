{
 "cells": [
  {
   "cell_type": "markdown",
   "id": "a3c31cde",
   "metadata": {},
   "source": [
    "# Stochastic Theory\n",
    "\n",
    "## Brief History of the Stochastic Theory of SEC\n",
    "\n",
    "Let us recap the history with the following excerpts from {cite}`DONDI2002185`:\n",
    "\n",
    "* The stochastic theory of chromatography, originally conceived by Giddings and Eyring in 1955 {cite}`Giddings_1955`, was recast by Carmichael to represent SEC processes \n",
    "\n",
    "* Several important contributions to stochastic theory of chromatography appeared after the original Carmichael’s work on SEC. \n",
    "\n",
    "* However this advancement leads to complex mathematics.\n",
    "\n",
    "* With the introduction of the characteristic function (CF) method, the mathematical intractability was completely overcome.\n"
   ]
  },
  {
   "cell_type": "markdown",
   "id": "a2e19f6c",
   "metadata": {},
   "source": [
    "## Stochastic Dispersive Model\n",
    "\n",
    "We use the stochastic dispersive model {cite}`Felinger1999` in its monopore case."
   ]
  }
 ],
 "metadata": {
  "language_info": {
   "name": "python"
  }
 },
 "nbformat": 4,
 "nbformat_minor": 5
}
