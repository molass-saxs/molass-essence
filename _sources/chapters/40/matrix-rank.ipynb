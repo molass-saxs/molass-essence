{
 "cells": [
  {
   "cell_type": "markdown",
   "id": "9bc58fc9",
   "metadata": {},
   "source": [
    "# Assumptions in Rank Estimation\n",
    "\n",
    "In this section, we summarize the assumptions we usually use, some of which are mathematically trivial (or self-evident), or found to be computationally fundamental from our experince. These will be refered to as our `\"Rank Estimation Assumptions\"`. \n",
    "\n",
    "## Basic Rules\n",
    "For the discussion in this section, we do not distiguish notations among curves, vectors and matrices in the following way.  \n",
    "\n",
    "* $p$ represents a vector (or a spectral curve) and also an (m,1) matrix\n",
    "* $c$ represents a vector (or an elutional curve) and also a (1,n) matrix\n",
    "* $P = [p_1, p_2, ...]$ represents a set of column vectors (spectral curves) and also an (m,k) matrix\n",
    "* $C = [c_1, c_2, ...]^T$ represents a set of row vectors (enutional curves) and also a (k,n) matrix\n",
    "\n",
    "where\n",
    "\n",
    "* m: number of spectral measurements > 0\n",
    "* n: number of elutional measurements > 0\n",
    "* k: number of components > 0.\n",
    "\n",
    "With these conventions, it is known that the following assertions are true.\n",
    "\n",
    "* rank($p$) is 1\n",
    "* rank($c$) is 1\n",
    "* rank($P$) is k if and only if $p_1$, $p_2$, ..., $p_k$ are linearly indepent (i.e., different species)\n",
    "* rank($C$) is k if and only if $c_1$, $c_2$, ..., $c_k$ are linearly indepent (i.e., different species)\n",
    "* rank($M$) is k if $M = P \\cdot C$\n"
   ]
  },
  {
   "cell_type": "markdown",
   "id": "316543b9",
   "metadata": {},
   "source": [
    "## Interparticle Effects Simplification\n",
    "\n",
    "It is also known that precisely modeling interpaticle effects are not easy.[^1] Therefore, we simply assume that they can be modeled for any single species (component) as follows.  \n",
    "\n",
    "* $M = [p_1, p_2] \\cdot [c, c^2]^T $ for small angle regions if the interparticle effects are not ignorable.\n",
    "* rank($M$) is 2 in this case\n",
    "\n",
    "In other words, our stance in Molass Library is not to investigate interparticle effects in greater detail, but rather to find the nearest feasible solution based on this quadratic assumption. From a practical point of view, it is better to make it easy to use this simple approximation than to do nothing out of concern for precision. Generally,\n",
    "\n",
    "* rank($M$) is  k + l\n",
    "\n",
    "where\n",
    "\n",
    "* k: number of components\n",
    "* l: number of components for which interparticle effects are not ignorable\n",
    "\n",
    "We will discuss more on this later in [Interparticle Effects](interparticle_effects).\n",
    "\n",
    "[^1]: This fact was expressed as \"the interference effects are unlikey to be treated rigorously, ...\" on page 36 in {cite}`FeiginSvergun1987`. And the situation around this problem does not seem to have changed since.\n",
    "\n",
    "\n",
    "\n"
   ]
  },
  {
   "cell_type": "markdown",
   "id": "8cb00355",
   "metadata": {},
   "source": []
  }
 ],
 "metadata": {
  "kernelspec": {
   "display_name": "Python 3",
   "language": "python",
   "name": "python3"
  },
  "language_info": {
   "codemirror_mode": {
    "name": "ipython",
    "version": 3
   },
   "file_extension": ".py",
   "mimetype": "text/x-python",
   "name": "python",
   "nbconvert_exporter": "python",
   "pygments_lexer": "ipython3",
   "version": "3.12.10"
  }
 },
 "nbformat": 4,
 "nbformat_minor": 5
}
