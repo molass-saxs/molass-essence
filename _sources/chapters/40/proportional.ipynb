{
 "cells": [
  {
   "cell_type": "markdown",
   "id": "a3c31cde",
   "metadata": {},
   "source": [
    "# Proportional EGH Modeling"
   ]
  },
  {
   "cell_type": "code",
   "execution_count": null,
   "id": "07413559",
   "metadata": {},
   "outputs": [],
   "source": [
    "from molass import get_version\n",
    "assert get_version() >= '0.4.0', \"This tutorial requires molass version 0.4.0 or higher.\"\n",
    "from molass_data import SAMPLE1\n",
    "from molass.DataObjects import SecSaxsData as SSD\n",
    "ssd = SSD(SAMPLE1)\n",
    "trimmed_ssd = ssd.trimmed_copy()\n",
    "corrected_ssd = trimmed_ssd.corrected_copy()\n",
    "decomposition = corrected_ssd.quick_decomposition(num_components=3)"
   ]
  },
  {
   "cell_type": "code",
   "execution_count": null,
   "id": "cfde9e04",
   "metadata": {},
   "outputs": [],
   "source": [
    "proportions = decomposition.get_proportions()\n",
    "proportions"
   ]
  },
  {
   "cell_type": "code",
   "execution_count": null,
   "id": "92bfa427",
   "metadata": {},
   "outputs": [],
   "source": [
    "modified_decomposition = corrected_ssd.quick_decomposition(num_components=3, proportions=[0.32, 0.20, 0.48])"
   ]
  },
  {
   "cell_type": "code",
   "execution_count": null,
   "id": "d372156c",
   "metadata": {},
   "outputs": [],
   "source": [
    "from importlib import reload\n",
    "import molass.PlotUtils.Comparison\n",
    "reload(molass.PlotUtils.Comparison)\n",
    "from molass.PlotUtils.Comparison import comparison_plot\n",
    "comparison_plot([decomposition, modified_decomposition], title=\"Comparison of Decompositions\", debug=True)"
   ]
  }
 ],
 "metadata": {
  "kernelspec": {
   "display_name": "Python 3",
   "language": "python",
   "name": "python3"
  },
  "language_info": {
   "codemirror_mode": {
    "name": "ipython",
    "version": 3
   },
   "file_extension": ".py",
   "mimetype": "text/x-python",
   "name": "python",
   "nbconvert_exporter": "python",
   "pygments_lexer": "ipython3",
   "version": "3.12.10"
  }
 },
 "nbformat": 4,
 "nbformat_minor": 5
}
