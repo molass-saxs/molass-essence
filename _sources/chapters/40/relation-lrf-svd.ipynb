{
 "cells": [
  {
   "cell_type": "markdown",
   "id": "a3c31cde",
   "metadata": {},
   "source": [
    "# Relation between LRF and SVD\n",
    "\n",
    "## Goal and Terminology\n",
    "\n",
    "We have already made the following observations about SVD.\n",
    "\n",
    "* [Singular Value Decomposition](svd_animation)\n",
    "* [Caveat: No One-to-One Correspondence](svd_caveat)\n",
    "* [Noise Reduction with SVD](svd_denoise)\n",
    "\n",
    "Especially, the second observation strongly indicates that SVD is quite different from the chromatographic decomposition.\n",
    "\n",
    "In this section, we will confirm or observe the following points.\n",
    "\n",
    "* A truncated SVD can be easily (or trivially) transformed to an (unrealistic) example of LRF.\n",
    "* We can generate an infinite number of candedate LRFs from a A truncated SVD.\n",
    "* Every member of the candedate set is equally likely with respect to the matrix norm $ \\| M - P \\cdot C \\| $.\n",
    "* Thus, a chromatogrpahic decomposition, which is the LRF we want, cannot be obtained without some proper constraints. \n",
    "\n",
    "By \"truncated SVD\", we mean here the approximation $ M \\approx [u_1, u_2, ... u_k] \\cdot diag([\\sigma_1, \\sigma_2, ..., \\sigma_k]) \\cdot [v_1, v_2, ..., v_k]^T $, which we will denote just $U \\cdot \\Sigma \\cdot V^T$."
   ]
  },
  {
   "cell_type": "markdown",
   "id": "d8060c18",
   "metadata": {},
   "source": [
    "## Dataset for Observation\n",
    "\n",
    "For simplicity, let $k = 2$ and consider the following truncdated SVD."
   ]
  },
  {
   "cell_type": "code",
   "execution_count": null,
   "id": "bca4882f",
   "metadata": {},
   "outputs": [],
   "source": [
    "import numpy as np\n",
    "import matplotlib.pyplot as plt\n",
    "from molass.SAXS.Models.Simple import guinier_porod\n",
    "from molass.SEC.Models.Simple import gaussian\n",
    "\n",
    "x = np.arange(300)\n",
    "q = np.linspace(0.005, 0.5, 400)\n",
    "\n",
    "def plot_multiple_component_data(scattering_params, elution_params, use_matrices=False, view=None, noise=None):\n",
    "    fig = plt.figure(figsize=(15,5))\n",
    "    ax1 = fig.add_subplot(131)\n",
    "    ax2 = fig.add_subplot(132)\n",
    "    ax3 = fig.add_subplot(133, projection='3d')\n",
    "    \n",
    "    fig.suptitle(r\"Illustration of Decomposition $M = P \\cdot C$ simulated with Guinier-Prod and EGH Models in Molass Library\", fontsize=16)\n",
    "\n",
    "    # ax1.set_yscale('log')\n",
    "    ax1.set_title(\"Scattering Curves in P\", fontsize=14)\n",
    "    ax1.set_xlabel(\"Q\")\n",
    "    ax1.set_ylabel(\"Intensity\")\n",
    "    w_list = []\n",
    "    rgs = []\n",
    "    for i, (G, Rg, d) in enumerate(scattering_params):\n",
    "        w, q1 = guinier_porod(q, G, Rg, d, return_also_q1=True)\n",
    "        w_list.append(w)\n",
    "        color = \"C%d\" % i\n",
    "        ax1.plot(q, w, color=color, label='component-%d: $R_g=%.3g$' % (i+1, Rg))\n",
    "        rgs.append(Rg)\n",
    "        # ax1.axvline(q1, linestyle=':', color=color, label='Guinier-Porod $Q_1$')\n",
    "    ax1.legend()\n",
    "\n",
    "    y_list = []\n",
    "    ax2.set_title(\"Elution Curves in C\", fontsize=14)\n",
    "    ax2.set_xlabel(\"Frames\")\n",
    "    ax2.set_ylabel(\"Concentration\")\n",
    "    for i, (h, m, s) in enumerate(elution_params):\n",
    "        y = gaussian(x, h, m, s)\n",
    "        y_list.append(y)\n",
    "        ax2.plot(x, y, label='component-%d: $R_g=%.3g$' % (i+1, rgs[i]))\n",
    "    ty = np.sum(y_list, axis=0)\n",
    "    ax2.plot(x, ty, ':', color='red', label='total')\n",
    "    ax2.legend()\n",
    "\n",
    "    ax3.set_title(r\"$M$ calculated by $P \\cdot C$\", fontsize=14)\n",
    "    ax3.set_xlabel(\"Q\")\n",
    "    ax3.set_ylabel(\"Frames\")\n",
    "    ax3.set_zlabel(\"Intensity\")\n",
    "    xx, qq = np.meshgrid(x, q)\n",
    "    if use_matrices:\n",
    "        P = np.array(w_list).T\n",
    "        C = np.array(y_list)\n",
    "        M = P @ C\n",
    "    else:\n",
    "        zz_list = []\n",
    "        for w, y in zip(w_list, y_list):\n",
    "            zz =  w.reshape((len(q),1)) @ y.reshape((1,len(x)))\n",
    "            zz_list.append(zz)\n",
    "        M = np.sum(zz_list, axis=0)\n",
    "    if noise is not None:\n",
    "        M += noise * np.random.randn(*M.shape)\n",
    "    ax3.plot_surface(qq, xx, M, color='red', alpha=0.5)\n",
    "    # ax3.legend()\n",
    "    if view is not None:\n",
    "        ax3.view_init(azim=view[0], elev=view[1])\n",
    "    Cinv = np.linalg.pinv(C)\n",
    "    P_ = M @ Cinv\n",
    "    for py in P_.T:\n",
    "        ax1.plot(q, py, linestyle=':', color=\"red\")\n",
    "    fig.tight_layout()\n",
    "    fig.subplots_adjust(right=0.95)\n",
    "\n",
    "    return M"
   ]
  },
  {
   "cell_type": "code",
   "execution_count": null,
   "id": "e5ab660e",
   "metadata": {},
   "outputs": [],
   "source": [
    "rgs = (35, 32)\n",
    "scattering_params = [(1, rgs[0], 2), (1, rgs[1], 3)]\n",
    "elution_params = [(1, 100, 12), (0.3, 125, 16)]\n",
    "M = plot_multiple_component_data(scattering_params, elution_params, use_matrices=True, view=(-15, 15))"
   ]
  },
  {
   "cell_type": "markdown",
   "id": "37aecfe6",
   "metadata": {},
   "source": [
    "## Random LRF Generation"
   ]
  },
  {
   "cell_type": "code",
   "execution_count": null,
   "id": "6184ffb1",
   "metadata": {},
   "outputs": [],
   "source": [
    "k = 2\n",
    "U, s, VT = np.linalg.svd(M)\n",
    "U_ = U[:,:k]\n",
    "s_ = s[:k]\n",
    "VT_ = VT[:k,:]\n",
    "M_ = U_ @ np.diag(s_) @ VT_\n",
    "scales = np.sqrt(s_)\n",
    "print(M.shape, M_.shape, np.linalg.norm(M - M_), s_, scales)"
   ]
  },
  {
   "cell_type": "code",
   "execution_count": null,
   "id": "24c462e3",
   "metadata": {},
   "outputs": [],
   "source": [
    "def plot_any_lrf(A, positive=False, view=None):\n",
    "    A_ = np.diag(scales) @ A\n",
    "    P = U_ @ A_\n",
    "    if positive:\n",
    "        pass\n",
    "    Ainv = np.linalg.inv(A)\n",
    "    Ainv_ = Ainv @ np.diag(scales)\n",
    "    C = Ainv_ @ VT_\n",
    "    D = P @ C\n",
    "\n",
    "    print(A, A @ Ainv)\n",
    "    print(A_ @ Ainv_, s_)\n",
    "    print(np.linalg.norm(D - M_))\n",
    "\n",
    "    fig = plt.figure(figsize=(15,5))\n",
    "    ax1 = fig.add_subplot(131)\n",
    "    ax2 = fig.add_subplot(132)\n",
    "    ax3 = fig.add_subplot(133, projection='3d')\n",
    "\n",
    "    for py in P.T:\n",
    "        ax1.plot(q, py)\n",
    "\n",
    "    for cy in C:\n",
    "        ax2.plot(x, cy)\n",
    "\n",
    "    xx, qq = np.meshgrid(x, q)\n",
    "    ax3.plot_surface(qq, xx, D, cmap='viridis')\n",
    "\n",
    "    if view is not None:\n",
    "        ax3.view_init(azim=view[0], elev=view[1])\n",
    "\n",
    "    fig.tight_layout()\n",
    "    fig.subplots_adjust(right=0.95)\n",
    "    plt.show()"
   ]
  },
  {
   "cell_type": "code",
   "execution_count": null,
   "id": "da8b7b67",
   "metadata": {},
   "outputs": [],
   "source": [
    "plot_any_lrf(np.random.uniform(size=(2,2)), view=(-15, 15))"
   ]
  },
  {
   "cell_type": "markdown",
   "id": "157252dd",
   "metadata": {},
   "source": [
    "## Positive LRF Generation\n",
    "\n",
    "```{note}\n",
    "Working.\n",
    "```"
   ]
  }
 ],
 "metadata": {
  "kernelspec": {
   "display_name": "Python 3",
   "language": "python",
   "name": "python3"
  },
  "language_info": {
   "codemirror_mode": {
    "name": "ipython",
    "version": 3
   },
   "file_extension": ".py",
   "mimetype": "text/x-python",
   "name": "python",
   "nbconvert_exporter": "python",
   "pygments_lexer": "ipython3",
   "version": "3.12.10"
  }
 },
 "nbformat": 4,
 "nbformat_minor": 5
}
