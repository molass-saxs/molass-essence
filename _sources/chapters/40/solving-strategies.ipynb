{
 "cells": [
  {
   "cell_type": "markdown",
   "id": "691e1788",
   "metadata": {},
   "source": [
    "# Notes on Solving Strategies\n",
    "\n",
    "In terms of general philosophy, our approach can be roughly classified as elution modeling. Let us briefly discuss this classification to clarify our position in the broader context.\n",
    "\n",
    "## Modeling vs. Model-Free Approaches\n",
    "\n",
    "There exist some model-free approaches, such as REGALS {cite}`Meisburger:mf5050` and EFAMIX {cite}`Konarev2022-vb`, which are based on the idea of \"Evolving Factor Analysis\" {cite}`MAEDER1986287`.\n",
    "\n",
    "In this contrast, our approach is classified as modeling.\n",
    "\n",
    "## Elution modeling vs. Spectrum modeling\n",
    "\n",
    "From the [matrix inversion](moore_penrose_inverse) discussion in the previous chapter, we can consider two possibilities. In other words, from the factorization $ M = P \\cdot C $, both factors $P$ and $C$ are equally eligible for modeling from a matehmatical point of view.\n",
    "\n",
    "If that is the case, why do we choose to model $C$ (elution modeling) not $P$ (spectrum modeling)?\n",
    "\n",
    "Roughly speaking, this is because spectral models are mostly shape-specific (or shape-dependent)[^1], e.g. see {cite}`Pedersen_1997`. Therefore, you have to choose the shape to use a spectral model, which is not appropriate when the particle shape is unknown.\n",
    "\n",
    "On the other hand, elution models are rather size-dependent (if at all)[^2], which is also in line with SEC—Size Exclusion Chromatography.\n",
    "\n",
    "[^1]: In this sense, [Guinier-Porod model](guinier_porod_model) is an exception. However, it is known to be unrealistic from our experience at least for proteins.\n",
    "\n",
    "[^2]: Also note that the size can be parametrized, which is impossible for the shape."
   ]
  }
 ],
 "metadata": {
  "language_info": {
   "name": "python"
  }
 },
 "nbformat": 4,
 "nbformat_minor": 5
}
