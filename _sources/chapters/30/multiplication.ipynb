{
 "cells": [
  {
   "cell_type": "markdown",
   "id": "e66eb023-d244-45fe-a583-9a08c405a996",
   "metadata": {},
   "source": [
    "# Matrix Multiplication\n",
    "\n",
    "In this section, we will confirm that the data from SEC-SAXS experiments can be represented as matrices which are products of the curves. This fact is expressed in a formula as follows.\n",
    "\n",
    "$$M = P \\cdot C \\qquad \\qquad (1) $$\n",
    "\n",
    "where\n",
    "* $ M $ : measured data\n",
    "* $ P $ : spectral curves\n",
    "* $ C $ : elutional curves\n",
    "* $ P \\cdot C $ : matrix multiplication\n",
    "\n",
    "```{note}\n",
    "We refer to the curves related to elution as 'elutional curves' for contrast with 'spectral curves.\n",
    "```"
   ]
  },
  {
   "cell_type": "markdown",
   "id": "f3075a52",
   "metadata": {},
   "source": [
    "## Case of Single Component\n",
    "\n",
    "For a case with a single component, confirm the following points.\n",
    "\n",
    "* The $P$ matrix consists of a single column vector which represents the spectral curve. \n",
    "* The $C$ matrix consists of a single row vector which represents the eluional curve. "
   ]
  },
  {
   "cell_type": "code",
   "execution_count": null,
   "id": "6fe811a3-eb48-44f1-8d28-c03af4a90b71",
   "metadata": {},
   "outputs": [],
   "source": [
    "import numpy as np\n",
    "import matplotlib.pyplot as plt\n",
    "from molass.SAXS.Models.Simple import guinier_porod\n",
    "from molass.SEC.Models.Simple import gaussian\n",
    "\n",
    "x = np.arange(300)\n",
    "q = np.linspace(0.005, 0.5, 400)\n",
    "\n",
    "def plot_single_component_data(scatter_params, elution_params):\n",
    "    G, Rg, d = scatter_params\n",
    "    h, m, s = elution_params\n",
    "    fig = plt.figure(figsize=(15,4))\n",
    "    ax1 = fig.add_subplot(131)\n",
    "    ax2 = fig.add_subplot(132)\n",
    "    ax3 = fig.add_subplot(133, projection='3d')\n",
    "    \n",
    "    I, q1 = guinier_porod(q, G, Rg, d, return_also_q1=True)\n",
    "    # ax1.set_yscale('log')\n",
    "    ax1.set_title(\"Scattering Curve: P\")\n",
    "    ax1.plot(q, I)\n",
    "    ax1.axvline(q1, linestyle=':', color=\"green\", label='Guinier-Porod Boundary')\n",
    "    ax1.legend()\n",
    "\n",
    "    y = gaussian(x, h, m, s)\n",
    "    ax2.set_title(\"Elution Curve: C\")\n",
    "    ax2.plot(x, y)\n",
    "    \n",
    "    P = I.reshape((len(q),1))   # make it a matrix\n",
    "    C = y.reshape((1,len(x)))   # make it a matrix\n",
    "    M = P @ C                   # matrix multiplication\n",
    "    xx, qq = np.meshgrid(x, q)\n",
    "    ax3.set_title(\"3D Data View: M=PC\")\n",
    "    ax3.plot_surface(qq, xx, M)\n",
    "    fig.tight_layout()"
   ]
  },
  {
   "cell_type": "code",
   "execution_count": null,
   "id": "d59598a3-736a-477f-b8e0-6564a9fd3709",
   "metadata": {},
   "outputs": [],
   "source": [
    "plot_single_component_data((1, 35, 3), (1, 150, 30))"
   ]
  },
  {
   "cell_type": "markdown",
   "id": "c1e96e9e-3fa6-4d68-8a6a-4ff7c71855ed",
   "metadata": {},
   "source": [
    "## Case of Multiple Components\n",
    "\n",
    "For a case with multiple components, confirm the following points.\n",
    "\n",
    "* The $P$ matrix consists of multiple column vectors which represent the spectral curves. \n",
    "* The $C$ matrix consists of multiple row vectors which represent the eluional curves. "
   ]
  },
  {
   "cell_type": "code",
   "execution_count": null,
   "id": "0e0f546c-ecc3-4254-be52-9c4255f837a7",
   "metadata": {},
   "outputs": [],
   "source": [
    "def plot_multiple_component_data(scattering_params, elution_params, use_matrices=False, view=None):\n",
    "    fig = plt.figure(figsize=(15,5))\n",
    "    ax1 = fig.add_subplot(131)\n",
    "    ax2 = fig.add_subplot(132)\n",
    "    ax3 = fig.add_subplot(133, projection='3d')\n",
    "    \n",
    "    fig.suptitle(r\"Illustration of Decomposition $M = P \\cdot C$ simulated with Guinier-Prod and EGH Models in Molass Library\", fontsize=16)\n",
    "\n",
    "    # ax1.set_yscale('log')\n",
    "    ax1.set_title(\"Scattering Curves in P\", fontsize=14)\n",
    "    ax1.set_xlabel(\"Q\")\n",
    "    ax1.set_ylabel(\"Intensity\")\n",
    "    w_list = []\n",
    "    rgs = []\n",
    "    for i, (G, Rg, d) in enumerate(scattering_params):\n",
    "        I, q1 = guinier_porod(q, G, Rg, d, return_also_q1=True)\n",
    "        w_list.append(I)\n",
    "        color = \"C%d\" % i\n",
    "        ax1.plot(q, I, color=color, label='component-%d: $R_g=%.3g$' % (i+1, Rg))\n",
    "        rgs.append(Rg)\n",
    "        # ax1.axvline(q1, linestyle=':', color=color, label='Guinier-Porod $Q_1$')\n",
    "    ax1.legend()\n",
    "\n",
    "    y_list = []\n",
    "    ax2.set_title(\"Elution Curves in C\", fontsize=14)\n",
    "    ax2.set_xlabel(\"Frames\")\n",
    "    ax2.set_ylabel(\"Concentration\")\n",
    "    for i, (h, m, s) in enumerate(elution_params):\n",
    "        y = gaussian(x, h, m, s)\n",
    "        y_list.append(y)\n",
    "        ax2.plot(x, y, label='component-%d: $R_g=%.3g$' % (i+1, rgs[i]))\n",
    "    ty = np.sum(y_list, axis=0)\n",
    "    ax2.plot(x, ty, ':', color='red', label='total')\n",
    "    ax2.legend()\n",
    "\n",
    "    ax3.set_title(r\"$M$ calculated by $P \\cdot C$\", fontsize=14)\n",
    "    ax3.set_xlabel(\"Q\")\n",
    "    ax3.set_ylabel(\"Frames\")\n",
    "    ax3.set_zlabel(\"Intensity\")\n",
    "    xx, qq = np.meshgrid(x, q)\n",
    "    if use_matrices:\n",
    "        P = np.array(w_list).T\n",
    "        C = np.array(y_list)\n",
    "        M = P @ C\n",
    "    else:\n",
    "        zz_list = []\n",
    "        for w, y in zip(w_list, y_list):\n",
    "            zz =  w.reshape((len(q),1)) @ y.reshape((1,len(x)))\n",
    "            zz_list.append(zz)\n",
    "        M = np.sum(zz_list, axis=0)\n",
    "    ax3.plot_surface(qq, xx, M, color='red', alpha=0.5)\n",
    "    # ax3.legend()\n",
    "    if view is not None:\n",
    "        ax3.view_init(azim=view[0], elev=view[1])    \n",
    "    fig.tight_layout()\n",
    "    fig.subplots_adjust(right=0.95)"
   ]
  },
  {
   "cell_type": "code",
   "execution_count": null,
   "id": "6ea9a67b-97f6-44c3-b889-b8e13e977c5f",
   "metadata": {},
   "outputs": [],
   "source": [
    "rgs = (35, 32, 23)\n",
    "scattering_params = [(1, rgs[0], 3), (1, rgs[1], 3), (1, rgs[2], 4)]\n",
    "elution_params = [(1, 100, 12), (0.3, 125, 16), (0.5, 200, 16)]\n",
    "plot_multiple_component_data(scattering_params, elution_params, use_matrices=True, view=(-15, 15))"
   ]
  }
 ],
 "metadata": {
  "kernelspec": {
   "display_name": "Python 3",
   "language": "python",
   "name": "python3"
  },
  "language_info": {
   "codemirror_mode": {
    "name": "ipython",
    "version": 3
   },
   "file_extension": ".py",
   "mimetype": "text/x-python",
   "name": "python",
   "nbconvert_exporter": "python",
   "pygments_lexer": "ipython3",
   "version": "3.12.10"
  }
 },
 "nbformat": 4,
 "nbformat_minor": 5
}
