{
 "cells": [
  {
   "cell_type": "markdown",
   "id": "9bc58fc9",
   "metadata": {},
   "source": [
    "(svd_denoise)=\n",
    "# Noise Reduction with SVD\n",
    "\n",
    "## How to Denoise\n",
    "As commonly known {cite:p}`Schanze_2018`, we can denoise $M$ by ignoring the insignificant tail[^1] of the following expansion made from SVD - Singular Value Decomposition - based on the linear nature expected in the data.\n",
    "\n",
    "$$ M = \\sum_{i=1}^{n} \\sigma_i u_i v_i^* \\qquad \\qquad (4) $$\n",
    "\n",
    "where\n",
    "\n",
    "* $n \\leq \\min(rows, columns)$ : the rank of $M$,\n",
    "* $\\sigma_i$ : ith singular value,\n",
    "* $u_i$ : ith row vector of the unitary matrix usually denoted by $U$,\n",
    "* $v_i^*$ : traspose of ith row vector of the unitary matrix usually denoted by $V$.\n",
    "\n",
    "[^1]: terms where $n \\geq i \\geq r$ assuming the target rank is r, which is supposed to be the number of components in cases of simple assumption. Otherwize, e.g, if any significant interparticle effects are suspected, this number should be duly incremented. `Molass Library` can deal with this issue by adding extra quadratic rows to $C$ when the concentration dependence can be assumed linear.\n"
   ]
  },
  {
   "cell_type": "markdown",
   "id": "e787b6f1",
   "metadata": {},
   "source": [
    "## Denoise Example\n",
    "\n",
    "To confirm the performance of the denoise method above, let us compare the noisy data and their denoised version.\n",
    "\n",
    "Our observation strategy is as follows.\n",
    "* Consider a single component case for simplicity\n",
    "* Assume that a true elution curve $C$ is known.\n",
    "* Denoise $M_{noisy}$ into $M_{denoised}$ usign the SVD expansion above \n",
    "* Compute spectral curves $P_{noisy}$ and $P_{denoised}$ from $M_{noisy}$ and $M_{denoised}$ using the inverse of $C$\n",
    "* Compare the computed spectral curves $P_{noisy}$ and $P_{denoised}$"
   ]
  },
  {
   "cell_type": "code",
   "execution_count": null,
   "id": "72ac5aeb",
   "metadata": {},
   "outputs": [],
   "source": [
    "import numpy as np\n",
    "import matplotlib.pyplot as plt\n",
    "from molass.SAXS.Models.Simple import guinier_porod\n",
    "from molass.SEC.Models.Simple import gaussian\n",
    "from molass.LowRank.LowRankInfo import get_denoised_data\n",
    "\n",
    "x = np.arange(300)\n",
    "q = np.linspace(0.005, 0.5, 400)\n",
    "\n",
    "def plot_single_component_data(scatter_params, elution_params, noise=None):\n",
    "    G, Rg, d = scatter_params\n",
    "    h, m, s = elution_params\n",
    "    fig = plt.figure(figsize=(15,8))\n",
    "    ax1 = fig.add_subplot(231)\n",
    "    ax2 = fig.add_subplot(232)\n",
    "    ax3 = fig.add_subplot(233, projection='3d')\n",
    "    ax4 = fig.add_subplot(234)\n",
    "    ax5 = fig.add_subplot(235)\n",
    "    ax6 = fig.add_subplot(236, projection='3d')\n",
    "\n",
    "    I, q1 = guinier_porod(q, G, Rg, d, return_also_q1=True)\n",
    "    # ax1.set_yscale('log')\n",
    "    for ax in [ax1, ax4]:\n",
    "        ax.set_title(f\"Scattering Curve\")\n",
    "        ax.plot(q, I, label='True $P$')\n",
    "        ax.axvline(q1, linestyle=':', color=\"green\", label='Guinier-Porod $Q_1$')\n",
    "\n",
    "    y = gaussian(x, h, m, s)\n",
    "    for ax in [ax2, ax5]:\n",
    "        ax.set_title(\"Elution Curve\")\n",
    "        ax.plot(x, y, label='True $C$')\n",
    "        ax.legend()\n",
    "\n",
    "    P = I.reshape((len(q),1))   # make it a matrix\n",
    "    C = y.reshape((1,len(x)))   # make it a matrix\n",
    "    M = P @ C                   # matrix multiplication\n",
    "    if noise is not None:\n",
    "        M += noise * np.random.randn(*M.shape)\n",
    "    xx, qq = np.meshgrid(x, q)\n",
    "    ax3.set_title(\"3D View: $M_{noisy}$\")\n",
    "    ax3.plot_surface(qq, xx, M)\n",
    "\n",
    "    Cinv = np.linalg.pinv(C)\n",
    "    P_ = M @ Cinv\n",
    "    ax1.plot(q, P_, linestyle=':', color=\"red\", label='$P_{noisy}$')\n",
    "\n",
    "    D = get_denoised_data(M, rank=1)\n",
    "    ax6.set_title(\"3D View: $M_{denoised}$\")\n",
    "    ax6.plot_surface(qq, xx, D)\n",
    "\n",
    "    Pd = D @ Cinv\n",
    "    ax4.plot(q, Pd, linestyle=':', color=\"red\", label='$P_{denoised}$')\n",
    "\n",
    "    for ax in [ax1, ax4]:\n",
    "        ax.legend()\n",
    "\n",
    "    fig.tight_layout()"
   ]
  },
  {
   "cell_type": "code",
   "execution_count": null,
   "id": "a727a181",
   "metadata": {},
   "outputs": [],
   "source": [
    "plot_single_component_data((1, 35, 3), (1, 150, 30), noise=0.1)"
   ]
  },
  {
   "cell_type": "markdown",
   "id": "022359fb",
   "metadata": {},
   "source": [
    "We can observe significant improvement in the 3D views on the right, while the estimated scattering curves on the left look almost the same. The explanation for this gap remains to be resolved. It may indicate a limitation of SVD-based denoising when it comes to improving the estimation of the scattering curve."
   ]
  }
 ],
 "metadata": {
  "kernelspec": {
   "display_name": "Python 3",
   "language": "python",
   "name": "python3"
  },
  "language_info": {
   "codemirror_mode": {
    "name": "ipython",
    "version": 3
   },
   "file_extension": ".py",
   "mimetype": "text/x-python",
   "name": "python",
   "nbconvert_exporter": "python",
   "pygments_lexer": "ipython3",
   "version": "3.12.10"
  }
 },
 "nbformat": 4,
 "nbformat_minor": 5
}
