{
 "cells": [
  {
   "cell_type": "markdown",
   "id": "9bc58fc9",
   "metadata": {},
   "source": [
    "# Linear Transformation\n",
    "\n",
    "Matrix multiplication maps any vector to another vector. Therefore it maps a shape to another shape in the vector space. In this sense a matrix correspond to a transformation, which is called a linear transformation. In this chapter, we will explore some examples in the hope that it will be helpful for the understanding of linear algebra basics."
   ]
  },
  {
   "cell_type": "markdown",
   "id": "febf24b5",
   "metadata": {},
   "source": [
    "## Basic Concept\n",
    "\n",
    "Linear transformation perspective is an easy way to get intuitive ideas about some of the concepts in linear algebra. The following animation shows an example in 2D space. It can be defined to be a transformation which transforms a square to a parallelogram.\n",
    "\n",
    "<video width=\"100%\" controls autoplay>\n",
    "<source src=\"../../_static/animations/linear-transfomation.mp4\" type=\"video/mp4\">\n",
    "</video>"
   ]
  },
  {
   "cell_type": "markdown",
   "id": "0e2b7727",
   "metadata": {},
   "source": [
    "## Moore-Ponrose Inverse\n",
    "\n",
    "In this perspective, Moore-Penrose inverse is an inverse transformation shown below. This animation first shows a 2D to 3D transformation starting from a 2D square in the left pane. And on the completion in the left, then its inverse transformation from 3D to 2D is shown in the right pane starting from a 3D cube.\n",
    "\n",
    "<video width=\"100%\" controls autoplay>\n",
    "<source src=\"../../_static/animations/moore-penrose-inverse.mp4\" type=\"video/mp4\">\n",
    "</video>"
   ]
  },
  {
   "cell_type": "markdown",
   "id": "f618cd90",
   "metadata": {},
   "source": [
    "(svd_animation)=\n",
    "## Singular Value Decomposition\n",
    "\n",
    "Singular value decomposition $ M = U \\cdot \\Sigma \\cdot V^* $ below is another one which is made easy to understand with linear transformation perspective. It should be clear in this animation how the decomposed matrices correspond to a rotation, a pair of scaling in the direction of axes (or a rectangular transformation) and another rotation.\n",
    "\n",
    "<video width=\"100%\" controls autoplay>\n",
    "<source src=\"../../_static/animations/SVD-animation.mp4\" type=\"video/mp4\">\n",
    "</video>"
   ]
  },
  {
   "cell_type": "markdown",
   "id": "3e9213be",
   "metadata": {},
   "source": [
    "(svd_caveat)=\n",
    "## Caveat: No One-to-One Correspondence\n",
    "\n",
    "With regard to SVD, it is important to realize that the singular values (or scale factors) do not directly correspond one-to-one to the component species in the real world. Let us confirm this assertion with the following example. Although it uses artificial values, it reflects what is generally observed."
   ]
  },
  {
   "cell_type": "code",
   "execution_count": null,
   "id": "280126e7",
   "metadata": {},
   "outputs": [],
   "source": [
    "import numpy as np\n",
    "import matplotlib.pyplot as plt\n",
    "from molass.SAXS.Models.Simple import guinier_porod\n",
    "from molass.SEC.Models.Simple import gaussian\n",
    "\n",
    "x = np.arange(300)\n",
    "q = np.linspace(0.005, 0.5, 400)\n",
    "\n",
    "def plot_multiple_component_data_with_svd(scattering_params, elution_params, use_matrices=False, view=None):\n",
    "    fig = plt.figure(figsize=(15,5))\n",
    "    ax1 = fig.add_subplot(131)\n",
    "    ax2 = fig.add_subplot(132)\n",
    "    ax3 = fig.add_subplot(133)\n",
    "    \n",
    "    fig.suptitle(r\"Observation of Singular Value Decomposition\", fontsize=16)\n",
    "\n",
    "    w_list = []\n",
    "    for i, (G, Rg, d) in enumerate(scattering_params):\n",
    "        I, q1 = guinier_porod(q, G, Rg, d, return_also_q1=True)\n",
    "        w_list.append(I)\n",
    "\n",
    "    y_list = []\n",
    "    ax1.set_title(\"Elution Curves in C\", fontsize=14)\n",
    "    ax1.set_xlabel(\"Frames\")\n",
    "    ax1.set_ylabel(\"Concentration\")\n",
    "    for i, (h, m, s) in enumerate(elution_params):\n",
    "        y = gaussian(x, h, m, s)\n",
    "        y_list.append(y)\n",
    "        ax1.plot(x, y, label='component-%d: $R_g=%.3g$' % (i+1, rgs[i]))\n",
    "    ty = np.sum(y_list, axis=0)\n",
    "    ax1.plot(x, ty, ':', color='red', label='total')\n",
    "    ax1.legend()\n",
    "\n",
    "    P = np.array(w_list).T\n",
    "    C = np.array(y_list)\n",
    "    M = P @ C\n",
    "\n",
    "    U, s, VT = np.linalg.svd(M)\n",
    "    ax2.plot(s[0:10], 'o', color='gray', alpha=0.5, label='Singular Values')\n",
    "    print(\"Top ten Singular Values:\", s[0:10])\n",
    "    s_ = s[s > 0.001 * s[0]]\n",
    "    ax2.plot(s_, 'o', color='red', label='Major Singular Values')\n",
    "    ax2.set_title(r\"Singular Values of $M = P \\cdot C$\", fontsize=14)\n",
    "    ax2.set_xlabel(\"Index\")\n",
    "    ax2.set_ylabel(\"Value\")\n",
    "    ax2.legend()\n",
    "\n",
    "    ax3.set_title(\"$V^T$ Major Components\")\n",
    "    for i in range(len(s_)):\n",
    "        ax3.plot(x, VT[i], label='component-%d' % (i+1))\n",
    "    ax3.legend()\n",
    "\n",
    "    fig.tight_layout()\n",
    "    fig.subplots_adjust(right=0.95)"
   ]
  },
  {
   "cell_type": "code",
   "execution_count": null,
   "id": "c451f06b",
   "metadata": {},
   "outputs": [],
   "source": [
    "rgs = (35, 32, 23)\n",
    "scattering_params = [(1, rgs[0], 2), (1, rgs[1], 3), (1, rgs[2], 4)]\n",
    "elution_params = [(1, 100, 12), (0.3, 125, 16), (0.5, 200, 16)]\n",
    "plot_multiple_component_data_with_svd(scattering_params, elution_params, use_matrices=True, view=(-15, 15))"
   ]
  },
  {
   "cell_type": "markdown",
   "id": "7d9ed219",
   "metadata": {},
   "source": [
    "Note that the components on the left do not correspond one-to-one to those on the right, and the proportions of the singular values in the center bear no resemblance to those of the real components."
   ]
  }
 ],
 "metadata": {
  "kernelspec": {
   "display_name": "Python 3",
   "language": "python",
   "name": "python3"
  },
  "language_info": {
   "codemirror_mode": {
    "name": "ipython",
    "version": 3
   },
   "file_extension": ".py",
   "mimetype": "text/x-python",
   "name": "python",
   "nbconvert_exporter": "python",
   "pygments_lexer": "ipython3",
   "version": "3.12.10"
  }
 },
 "nbformat": 4,
 "nbformat_minor": 5
}
