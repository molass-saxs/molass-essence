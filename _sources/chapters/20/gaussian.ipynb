{
 "cells": [
  {
   "cell_type": "markdown",
   "id": "63cc1f81",
   "metadata": {},
   "source": [
    "# Gaussian Curve\n",
    "\n",
    "The simplest elution curve model is Gaussian.\n",
    "\n",
    "Confirm the basic properties and relation between the peak width and the standard deviation by running the following code snipets.\n"
   ]
  },
  {
   "cell_type": "code",
   "execution_count": null,
   "id": "bd712e38",
   "metadata": {},
   "outputs": [],
   "source": [
    "import numpy as np\n",
    "def gaussian(x, A=1.0, mu=0.0, sigma=1.0):\n",
    "    return A * np.exp(-((x - mu)**2/(2*sigma**2)))\n"
   ]
  },
  {
   "cell_type": "code",
   "execution_count": null,
   "id": "fbd78621",
   "metadata": {},
   "outputs": [],
   "source": [
    "x = np.linspace(-5, 5, 100)\n",
    "y = gaussian(x, A=1.0, mu=0.0, sigma=1.0)\n",
    "w = np.sum(y)\n",
    "mean = np.sum(x * y) / w\n",
    "variance = np.sum((x - mean) ** 2 * y) / w\n",
    "mean, variance, np.sqrt(variance)"
   ]
  },
  {
   "cell_type": "code",
   "execution_count": null,
   "id": "d827c2fa",
   "metadata": {},
   "outputs": [],
   "source": [
    "import matplotlib.pyplot as plt\n",
    "def plot_gaussian(x, A=1.0, mu=0.0, sigma=1.0):    \n",
    "    y = gaussian(x, A, mu, sigma)\n",
    "    \n",
    "    w = np.sum(y)\n",
    "    mean = np.sum(x * y) / w\n",
    "    variance = np.sum((x - mean) ** 2 * y) / w\n",
    "    std = np.sqrt(variance)\n",
    "    print(\"Mean:\", mean)\n",
    "    print(\"Variance:\", variance)\n",
    "    print(\"Standard Deviation:\", std)\n",
    "\n",
    "    plt.figure(figsize=(8, 4))\n",
    "    plt.plot(x, y, label=f'Gaussian: A={A}, μ={mu}, σ={sigma}')\n",
    "    plt.axvline(mean, color='r', linestyle='--', label='Mean')\n",
    "    plt.axvline(mean + std, color='g', linestyle='--', label='Std Dev')\n",
    "    plt.axvline(mean - std, color='g', linestyle='--')\n",
    "    plt.title('Gaussian Function')\n",
    "    plt.xlabel('x')\n",
    "    plt.ylabel('f(x)')\n",
    "    plt.grid()\n",
    "    plt.legend()\n",
    "    plt.show()"
   ]
  },
  {
   "cell_type": "code",
   "execution_count": null,
   "id": "cc518cfb",
   "metadata": {},
   "outputs": [],
   "source": [
    "x = np.linspace(-5, 5, 100)\n",
    "plot_gaussian(x)"
   ]
  },
  {
   "cell_type": "markdown",
   "id": "dc9b5edb",
   "metadata": {},
   "source": [
    "In a more realistic scaling, where we have already observed in the [Elutional View Section](elutional_view):"
   ]
  },
  {
   "cell_type": "code",
   "execution_count": null,
   "id": "0ce56b47",
   "metadata": {},
   "outputs": [],
   "source": [
    "x = np.arange(300)\n",
    "plot_gaussian(x, A=1.0, mu=150.0, sigma=30.0)"
   ]
  }
 ],
 "metadata": {
  "kernelspec": {
   "display_name": "Python 3",
   "language": "python",
   "name": "python3"
  },
  "language_info": {
   "codemirror_mode": {
    "name": "ipython",
    "version": 3
   },
   "file_extension": ".py",
   "mimetype": "text/x-python",
   "name": "python",
   "nbconvert_exporter": "python",
   "pygments_lexer": "ipython3",
   "version": "3.12.10"
  }
 },
 "nbformat": 4,
 "nbformat_minor": 5
}
