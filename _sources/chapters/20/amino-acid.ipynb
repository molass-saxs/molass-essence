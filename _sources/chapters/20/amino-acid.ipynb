{
 "cells": [
  {
   "cell_type": "markdown",
   "id": "9bc58fc9",
   "metadata": {},
   "source": [
    "# UV Absorbance of Amino Acids\n",
    "\n",
    "It is notable that proteins primarily absorb UV light due to the presence of tryptophan, tyrosine, and phenylalanine residues, with absorbance-maximizing wavelengths listed in the table below.{cite}`BITER:2019`\n",
    "\n",
    "```{list-table} Amino Acid UV Absorbance\n",
    ":header-rows: 1\n",
    ":name: amino-acid-uv-absorbance\n",
    "\n",
    "* - Amino Acid\n",
    "  - Absorbance-maximizing Wavelength\n",
    "* - tryptophan\n",
    "  - 280 nm\n",
    "* - tyrosine\n",
    "  - 275 nm\n",
    "* - phenylalanine\n",
    "  - 258 nm\n",
    "```\n",
    "\n",
    "It is also known that we can compute UV absorbance spectra of relatively small molecules like amino acids using computational chemistry programs such as PySCF.\n",
    "\n",
    "However, there exists no simple analytic model for UV absorbance spectra.\n",
    "\n",
    "```{note}\n",
    "This section is planned.\n",
    "```"
   ]
  }
 ],
 "metadata": {
  "kernelspec": {
   "display_name": "Python 3",
   "language": "python",
   "name": "python3"
  },
  "language_info": {
   "codemirror_mode": {
    "name": "ipython",
    "version": 3
   },
   "file_extension": ".py",
   "mimetype": "text/x-python",
   "name": "python",
   "nbconvert_exporter": "python",
   "pygments_lexer": "ipython3",
   "version": "3.12.9"
  }
 },
 "nbformat": 4,
 "nbformat_minor": 5
}
