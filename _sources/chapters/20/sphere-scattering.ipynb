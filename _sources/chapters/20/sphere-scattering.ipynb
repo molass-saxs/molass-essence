{
 "cells": [
  {
   "cell_type": "markdown",
   "id": "9bc58fc9",
   "metadata": {},
   "source": [
    "# Sphere Scattering\n",
    "\n",
    "Following {cite:p}`Pedersen_1997`, we will glance over the model.\n",
    "\n",
    "$$ F_1(q,R) = \\frac{3[\\sin(q R) - q R \\cos(q R)]}{(q R)^3} $$"
   ]
  },
  {
   "cell_type": "code",
   "execution_count": null,
   "id": "07dfc205",
   "metadata": {},
   "outputs": [],
   "source": [
    "from molass import get_version\n",
    "assert get_version() >= '0.6.0', 'Please update molass to the latest version'\n",
    "import numpy as np\n",
    "import matplotlib.pyplot as plt\n",
    "from molass.SAXS.Models.Formfactors import homogeneous_sphere\n",
    "\n",
    "q = np.linspace(0.005, 0.7, 100)\n",
    "R = 30\n",
    "\n",
    "I = homogeneous_sphere(q, R)**2\n",
    "fig, (ax1, ax2) = plt.subplots(ncols=2, figsize=(10, 5))\n",
    "ax2.set_yscale('log')\n",
    "for ax in ax1, ax2:\n",
    "    ax.plot(q, I, label='homogeneous sphere')"
   ]
  }
 ],
 "metadata": {
  "kernelspec": {
   "display_name": "Python 3",
   "language": "python",
   "name": "python3"
  },
  "language_info": {
   "codemirror_mode": {
    "name": "ipython",
    "version": 3
   },
   "file_extension": ".py",
   "mimetype": "text/x-python",
   "name": "python",
   "nbconvert_exporter": "python",
   "pygments_lexer": "ipython3",
   "version": "3.12.10"
  }
 },
 "nbformat": 4,
 "nbformat_minor": 5
}
