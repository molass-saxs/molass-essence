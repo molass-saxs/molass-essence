{
 "cells": [
  {
   "cell_type": "markdown",
   "id": "587f0cca",
   "metadata": {},
   "source": [
    "# Exponential-Gaussian Hybrid\n",
    "\n",
    "Although the simplest Gaussian model is symmetric, it is not true for most chromatographic profiles. Therefore, we need asymmetric models. EGH model, which was introduced by {cite:p}`LAN2001`, is the one we have chosen for its mathmatical simplisity and numerical stability as stated in the paper.\n",
    "\n",
    "Its asymmetry parameter is `tau` and it reduces to the Gaussian when `tau` = 0."
   ]
  },
  {
   "cell_type": "code",
   "execution_count": null,
   "id": "1fddcb8e",
   "metadata": {},
   "outputs": [],
   "source": [
    "import numpy as np\n",
    "import matplotlib.pyplot as plt\n",
    "def plot_egh(x, A=1.0, mu=0.0, sigma=1.0, tau=1.0):\n",
    "    from molass.SEC.Models.Simple import egh\n",
    "    y = egh(x, A, mu, sigma, tau)\n",
    "\n",
    "    w = np.sum(y)\n",
    "    mean = np.sum(x * y) / w\n",
    "    variance = np.sum((x - mean) ** 2 * y) / w\n",
    "    std = np.sqrt(variance)\n",
    "\n",
    "    plt.plot(x, y)\n",
    "    plt.axvline(mean, color='r', linestyle='--', label='Mean')\n",
    "    plt.axvline(mean + std, color='g', linestyle='--', label='Std Dev')\n",
    "    plt.axvline(mean - std, color='g', linestyle='--')\n",
    "    plt.legend()\n",
    "    plt.title('Exponential-Gaussian Hybrid Function')\n",
    "    plt.xlabel('x')\n",
    "    plt.ylabel('f(x)')\n",
    "    plt.grid()\n",
    "    plt.show()"
   ]
  },
  {
   "cell_type": "code",
   "execution_count": null,
   "id": "5f11a164",
   "metadata": {},
   "outputs": [],
   "source": [
    "x = np.arange(300)\n",
    "plot_egh(x, A=1.0, mu=150.0, sigma=30.0, tau=0)"
   ]
  },
  {
   "cell_type": "code",
   "execution_count": null,
   "id": "df9a859c",
   "metadata": {},
   "outputs": [],
   "source": [
    "def plot_egh_curves(x, params):\n",
    "    from molass.SEC.Models.Simple import egh, egh_std\n",
    "    for k, param in enumerate(params):\n",
    "        A = param['A']\n",
    "        mu = param['mu']\n",
    "        sigma = param['sigma']\n",
    "        tau = param['tau']\n",
    "        y = egh(x, A, mu, sigma, tau)\n",
    "        plt.plot(x, y, label=f\"A={A}, mu={mu}, sigma={sigma}, tau={tau}\")\n",
    "        if k == 1:\n",
    "            w = np.sum(y)\n",
    "            mean = np.sum(x * y) / w\n",
    "            variance = np.sum((x - mean) ** 2 * y) / w\n",
    "            std = np.sqrt(variance)\n",
    "            plt.axvline(mean, color='r', linestyle='--', label='Mean')\n",
    "            plt.axvline(mean + std, color='g', linestyle='--', label='Std Dev')\n",
    "            plt.axvline(mean - std, color='g', linestyle='--')\n",
    "            print(\"std=\", std)\n",
    "            print(\"egh_std=\", egh_std(sigma, tau)) # std and egh_std should be nearly equal\n",
    "    plt.title('Exponential-Gaussian Hybrid Functions')\n",
    "    plt.xlabel('x')\n",
    "    plt.ylabel('f(x)')\n",
    "    plt.grid()\n",
    "    plt.legend()\n",
    "    plt.show()"
   ]
  },
  {
   "cell_type": "markdown",
   "id": "620517ef",
   "metadata": {},
   "source": [
    "Observe the asymmetriy and peak width when tau ≠ 0 in the following examples.\n",
    "\n",
    "Note that the peak is tailing when tau > 0, although it is fronting when tau < 0."
   ]
  },
  {
   "cell_type": "code",
   "execution_count": null,
   "id": "9c290489",
   "metadata": {},
   "outputs": [],
   "source": [
    "plot_egh_curves(x, [\n",
    "    {'A': 1.0, 'mu': 150.0, 'sigma': 30.0, 'tau': 0},\n",
    "    {'A': 1.0, 'mu': 150.0, 'sigma': 30.0, 'tau': 20},\n",
    "])"
   ]
  },
  {
   "cell_type": "code",
   "execution_count": null,
   "id": "ff645265",
   "metadata": {},
   "outputs": [],
   "source": [
    "plot_egh_curves(x, [\n",
    "    {'A': 1.0, 'mu': 150.0, 'sigma': 30.0, 'tau': 0},\n",
    "    {'A': 1.0, 'mu': 150.0, 'sigma': 30.0, 'tau': -20},\n",
    "])"
   ]
  }
 ],
 "metadata": {
  "kernelspec": {
   "display_name": "Python 3",
   "language": "python",
   "name": "python3"
  },
  "language_info": {
   "codemirror_mode": {
    "name": "ipython",
    "version": 3
   },
   "file_extension": ".py",
   "mimetype": "text/x-python",
   "name": "python",
   "nbconvert_exporter": "python",
   "pygments_lexer": "ipython3",
   "version": "3.12.10"
  }
 },
 "nbformat": 4,
 "nbformat_minor": 5
}
