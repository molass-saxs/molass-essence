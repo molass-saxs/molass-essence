{
 "cells": [
  {
   "cell_type": "markdown",
   "id": "a3c31cde",
   "metadata": {},
   "source": [
    "# Linearly Worsened Errors\n",
    "\n"
   ]
  },
  {
   "cell_type": "code",
   "execution_count": null,
   "id": "136d3789",
   "metadata": {},
   "outputs": [],
   "source": [
    "from molass import get_version\n",
    "assert get_version() >= '0.5.0', \"This tutorial requires molass version 0.5.0 or higher.\"\n",
    "import numpy as np\n",
    "import matplotlib.pyplot as plt\n",
    "from molass.SAXS.Models.Formfactors import homogeneous_sphere\n",
    "\n",
    "q = np.linspace(0.005, 0.3, 100)\n",
    "Rg = 35\n",
    "R = np.sqrt(5/3)*Rg\n",
    "\n",
    "I = homogeneous_sphere(q, R)\n",
    "fig, ax = plt.subplots()\n",
    "ax.set_yscale('log')\n",
    "ax.plot(q, I, label='homogeneous sphere')"
   ]
  },
  {
   "cell_type": "code",
   "execution_count": null,
   "id": "6cd4d31a",
   "metadata": {},
   "outputs": [],
   "source": [
    "from molass.SAXS.Theory.DjKinning1984 import S0\n",
    "I1 = homogeneous_sphere(q, R)\n",
    "I2 = I1 * S0(q, R)\n",
    "\n",
    "fig, ax = plt.subplots()\n",
    "ax.set_yscale('log')\n",
    "ax.plot(q, I1, label='homogeneous sphere')\n",
    "ax.plot(q, I2, label='with structure factor S(q)')\n",
    "ax.legend()"
   ]
  },
  {
   "cell_type": "code",
   "execution_count": null,
   "id": "cb4c07ce",
   "metadata": {},
   "outputs": [],
   "source": [
    "import numpy as np\n",
    "import matplotlib.pyplot as plt\n",
    "from bisect import bisect_right\n",
    "from molass.SEC.Models.Simple import gaussian\n",
    "from molass.LowRank.LowRankInfo import get_denoised_data\n",
    "\n",
    "def plot_structure_factor(Rg=35, ratio=1.0, error_level=0.05):\n",
    "    x = np.arange(300)\n",
    "    q = np.linspace(0.005, 0.3, 200)\n",
    "\n",
    "    R = np.sqrt(5/3)*Rg\n",
    "    I1 = homogeneous_sphere(q, R)**2 \n",
    "    I2 = I1 * S0(q, R)\n",
    "\n",
    "    i = bisect_right(q, 0.02)\n",
    "    h, m, s = 1, 150, 30\n",
    "    y = gaussian(x, h, m, s)\n",
    "    fig = plt.figure(figsize=(15,8))\n",
    "    ax1 = fig.add_subplot(231)\n",
    "    ax2 = fig.add_subplot(232)\n",
    "    ax3 = fig.add_subplot(233, projection='3d')\n",
    "    ax4 = fig.add_subplot(234)\n",
    "    ax5 = fig.add_subplot(235)\n",
    "    ax6 = fig.add_subplot(236, projection='3d')\n",
    "\n",
    "    ax2.set_yscale('log')\n",
    "    for ax in [ax1, ax2]:\n",
    "        ax.plot(q, I1, label='I1: P(q)')\n",
    "        ax.plot(q, I2, label='I2: P(q)S(q)')\n",
    "        bq = (I1 - I2)*ratio\n",
    "        # ax.plot(q, bq, label='(I1 - I2)')\n",
    "        ax.legend()\n",
    "\n",
    "    P = np.array([I1, bq]).T\n",
    "    C = np.array([y, y**2])\n",
    "    M = P @ C                   # matrix multiplication\n",
    "\n",
    "    Me = M + error_level * np.random.randn(*M.shape)\n",
    "    # Me_ = get_denoised_data(Me, rank=2)\n",
    "\n",
    "    # y_ = Me_[i,:]\n",
    "    # Cinv = np.linalg.pinv(np.array([y_, y_**2]))\n",
    "    Cinv = np.linalg.pinv(C)\n",
    "    P_ = Me @ Cinv\n",
    "\n",
    "    xx, qq = np.meshgrid(x, q)\n",
    "    ax3.set_title(\"3D Data View: M=PC\")\n",
    "    ax3.plot_surface(qq, xx, M)\n",
    "    ax6.plot_surface(qq, xx, Me)\n",
    "    ax5.set_yscale('log')\n",
    "\n",
    "    for ax in [ax4, ax5]:\n",
    "        ax.plot(q, I1, alpha=0.5, label='I1: P(q)')\n",
    "        ax.plot(q, I2, alpha=0.5, label='I2: P(q)S(q)')\n",
    "        # ax.plot(q, bq, alpha=0.5, label='(I1 - I2)')\n",
    "        aq = P_[:,0]\n",
    "        bq = P_[:,1]\n",
    "        ax.plot(q, aq, color='C0', label='aq')\n",
    "        # ax.plot(q, bq, color='C2', label='bq')\n",
    "        ax.plot(q, aq - bq, color='C1', label='aq-bq')\n",
    "        ax.legend()\n",
    "    fig.tight_layout()"
   ]
  },
  {
   "cell_type": "code",
   "execution_count": null,
   "id": "08b0a4d6",
   "metadata": {},
   "outputs": [],
   "source": [
    "plot_structure_factor(error_level=0.05)"
   ]
  },
  {
   "cell_type": "code",
   "execution_count": null,
   "id": "15224637",
   "metadata": {},
   "outputs": [],
   "source": [
    "plot_structure_factor(error_level=0.0)"
   ]
  }
 ],
 "metadata": {
  "kernelspec": {
   "display_name": "Python 3",
   "language": "python",
   "name": "python3"
  },
  "language_info": {
   "codemirror_mode": {
    "name": "ipython",
    "version": 3
   },
   "file_extension": ".py",
   "mimetype": "text/x-python",
   "name": "python",
   "nbconvert_exporter": "python",
   "pygments_lexer": "ipython3",
   "version": "3.12.10"
  }
 },
 "nbformat": 4,
 "nbformat_minor": 5
}
