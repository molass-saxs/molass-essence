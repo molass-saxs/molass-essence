{
 "cells": [
  {
   "cell_type": "markdown",
   "id": "a3c31cde",
   "metadata": {},
   "source": [
    "# Form and Structure Factors\n",
    "\n",
    "For the discusion in the following chapters, the definitions of form factor and structure factor are presented. Take them for granted. See {cite}`Gommes:gj5274`.\n",
    "\n",
    "## Form Factor\n",
    "\n",
    "For an individual particle, the form factor is defined as\n",
    "\n",
    "$$ I(q) = \\rho^2V^2P(q) \\qquad \\qquad (1) $$\n",
    "\n",
    "where\n",
    "* $I(q)$ : scattered intensity\n",
    "* $\\rho$ : electron density\n",
    "* $V$ : particle volume\n",
    "* $P(q)$ : form factor (normalized so that P(q) = 1 for small q).\n",
    "\n",
    "\n",
    "For a sample, ignoring interparticle effects, it can be written as\n",
    "\n",
    "$$ I(q) = c\\rho^2V^2P(q) \\qquad \\qquad (2)  $$\n",
    "\n",
    "where\n",
    "* $c$ : particle concentration."
   ]
  },
  {
   "cell_type": "markdown",
   "id": "2ae83987",
   "metadata": {},
   "source": [
    "## Structure Factor\n",
    "\n",
    "When you consider the interparticle effects, they are expressed as\n",
    "\n",
    "$$ I(q) = c\\rho^2V^2P(q)S(q) \\qquad \\qquad (3) $$\n",
    "\n",
    "where\n",
    "* $S(q)$ : structure factor.\n",
    "\n",
    "In other words, we can just think that the structure factor is a reprentaion of interparticle effects."
   ]
  },
  {
   "cell_type": "markdown",
   "id": "d626ed1b",
   "metadata": {},
   "source": [
    "## Form Factor Models\n",
    "\n",
    "Following {cite}`Pedersen_1997`, we will give some known examples of form factor models.\n",
    "\n",
    "### Homogeneous Sphere"
   ]
  },
  {
   "cell_type": "code",
   "execution_count": null,
   "id": "d5dad215",
   "metadata": {},
   "outputs": [],
   "source": [
    "from molass import get_version\n",
    "assert get_version() >= '0.5.0', \"This tutorial requires molass version 0.5.0 or higher.\"\n",
    "import numpy as np\n",
    "import matplotlib.pyplot as plt\n",
    "from molass.Shapes import Sphere\n",
    "from molass.DensitySpace import VoxelSpace\n",
    "from molass.SAXS.Models.Formfactors import homogeneous_sphere\n",
    "\n",
    "q = np.linspace(0.005, 0.7, 100)\n",
    "R = 30\n",
    "\n",
    "I = homogeneous_sphere(q, R)\n",
    "\n",
    "sphere = Sphere(radius=10)\n",
    "space = VoxelSpace(64, sphere)\n",
    "\n",
    "fig = plt.figure(figsize=(12, 5))\n",
    "fig.suptitle('Form factor of a Homogeneous Sphere')\n",
    "ax1 = fig.add_subplot(121, projection='3d')\n",
    "ax1.set_title('Electron density')\n",
    "space.plot_as_dots(ax1)\n",
    "\n",
    "ax2 = fig.add_subplot(122)\n",
    "ax2.set_title('SAXS intensity')\n",
    "ax2.set_yscale('log')\n",
    "ax2.plot(q, I, label='Analitical formula')\n",
    "ax2.legend()\n",
    "ax2.set_xlabel('q (1/Å)')"
   ]
  },
  {
   "cell_type": "markdown",
   "id": "3f9cf686",
   "metadata": {},
   "source": [
    "### Tri-axial Ellipsoid"
   ]
  },
  {
   "cell_type": "code",
   "execution_count": null,
   "id": "eeb0def8",
   "metadata": {},
   "outputs": [],
   "source": [
    "from molass.Shapes import Ellipsoid\n",
    "from molass.DensitySpace import VoxelSpace\n",
    "from molass.SAXS.Models.Formfactors import tri_axial_ellipsoid\n",
    "I = tri_axial_ellipsoid(q, 30, 20, 10)\n",
    "\n",
    "ellipsoid = Ellipsoid(30, 20, 10)\n",
    "space = VoxelSpace(64, ellipsoid)\n",
    "\n",
    "fig = plt.figure(figsize=(12, 5))\n",
    "fig.suptitle('Form factor of a Tri-axial Ellipsoid')\n",
    "ax1 = fig.add_subplot(121, projection='3d')\n",
    "ax1.set_title('Electron density')\n",
    "space.plot_as_dots(ax1)\n",
    "\n",
    "ax2 = fig.add_subplot(122)\n",
    "ax2.set_title('SAXS intensity')\n",
    "ax2.set_yscale('log')\n",
    "ax2.plot(q, I, label='Analitical formula')\n",
    "ax2.legend()\n",
    "ax2.set_xlabel('q (1/Å)')"
   ]
  },
  {
   "cell_type": "markdown",
   "id": "08b16feb",
   "metadata": {},
   "source": [
    "## Structure Factor Models\n",
    "\n",
    "Following {cite}`Kinning1984-ju`, we will give some known examples of form structure models."
   ]
  },
  {
   "cell_type": "code",
   "execution_count": null,
   "id": "269766bb",
   "metadata": {},
   "outputs": [],
   "source": [
    "from molass import get_version\n",
    "assert get_version() >= '0.5.0', \"This tutorial requires molass version 0.5.0 or higher.\"\n",
    "from molass.SAXS.Theory.DjKinning1984 import demo1\n",
    "demo1()"
   ]
  }
 ],
 "metadata": {
  "kernelspec": {
   "display_name": "Python 3",
   "language": "python",
   "name": "python3"
  },
  "language_info": {
   "codemirror_mode": {
    "name": "ipython",
    "version": 3
   },
   "file_extension": ".py",
   "mimetype": "text/x-python",
   "name": "python",
   "nbconvert_exporter": "python",
   "pygments_lexer": "ipython3",
   "version": "3.12.10"
  }
 },
 "nbformat": 4,
 "nbformat_minor": 5
}
