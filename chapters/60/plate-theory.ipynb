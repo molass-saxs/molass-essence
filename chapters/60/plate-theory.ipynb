{
 "cells": [
  {
   "cell_type": "markdown",
   "id": "a3c31cde",
   "metadata": {},
   "source": [
    "# Plate Theory\n",
    "\n",
    "## Introduction\n",
    "\n",
    "Plate theory quantifies the relationship between retention time and chromatographic peak width. In simple terms, the longer the retention time, the wider the peak. The concept of \"theoretical plates,\" introduced by Martin and Synge in 1941 {cite}`Martin1941-sz`, is rooted in the structure of Pascal’s triangle, which illustrates particle distribution across discrete stages. This distribution follows the binomial theorem, and as the number of plates increases, it approaches a Gaussian distribution—representing the symmetric case.\n",
    "\n",
    "In practice, peak shapes can be asymmetric due to various effects. Models such as EMG (Exponentially Modified Gaussian {cite}`Foley_1984` or {cite}`Kalambet2011-us`) and EGH (Exponentially Gaussian Hybrid {cite}`LAN2001`) can be used to fit asymmetric peaks."
   ]
  },
  {
   "cell_type": "markdown",
   "id": "309f76ba",
   "metadata": {},
   "source": [
    "## Caveat on Retention Time\n",
    "\n",
    "In the SEC theory context, retention time is supposed to be the time span from the injection to the elution peak point. See [Technical Report](https://freesemt.github.io/molass-technical/chapters/40/plate_number.html) for implementation details."
   ]
  },
  {
   "cell_type": "markdown",
   "id": "53088333",
   "metadata": {},
   "source": [
    "## Basic Plate Theory\n",
    "\n",
    "The basic plate theory relates the number of theoretical plates, $N$, to the retention time, $t_R$, and the standard deviation of the elution peak, $\\sigma$, as follows:\n",
    "\n",
    "$$ N = \\frac{t_R^2}{\\sigma^2} \\qquad\\qquad\\qquad (1) $$\n",
    "\n",
    "```{figure} ../../_static/images/theoretical_plates.png\n",
    ":name: theoretical_plates\n",
    "\n",
    "Theoretical Plates\n",
    "```\n",
    "\n",
    "This figure, based on Pascal’s triangle, visually connects the binomial distribution of particles to the concept of plates and the resulting Gaussian peak shape."
   ]
  },
  {
   "cell_type": "markdown",
   "id": "de5eb319",
   "metadata": {},
   "source": [
    "## Modified Formulae for Asymmetric Models\n",
    "\n",
    "You can interpret the above formula as:\n",
    "\n",
    "$$ N = \\frac{t_R^2}{second \\  central \\  moment} \\qquad\\qquad\\qquad (2) $$\n",
    "\n",
    "Note that $t_R$ (retention time) is define as the mode of the elution peak. Also note that for a symmetric (Gaussian) model, $ t_R = mode = mean $. For asymmetric models, related parameters are as shown below:\n",
    "\n",
    "| Model | Mode             |   Mean (first raw moment) |   $\\bar{M_2}$ (second central moment)    |\n",
    "| :---: | :--------------: | :------------:  |  :-------------:  |\n",
    "| EMG   | very complicated [^1]   |   $ \\mu + \\tau $   |  $ \\sigma^2 + \\tau^2 $ |\n",
    "| EGH   |   $t_R$  | $ t_R + \\tau\\epsilon_1 $ |  $ (\\sigma^2 + \\sigma\\|\\tau\\| +\\tau^2)\\epsilon_2 $ |\n",
    "\n",
    "For the extension of the basic plate theory to asymmetric models, let us consider only EGH model since we prefer to use it from its \"mathematical simplisity and numerical stability.\"\n",
    "We can use one of the following.\n",
    "\n",
    "$$  N \\approx \\frac{t_R^2}{(\\sigma^2 + \\sigma|\\tau| +\\tau^2)\\epsilon_2} \\qquad\\qquad\\qquad (3)  $$\n",
    "\n",
    "$$  N \\approx \\frac{t_R^2}{\\sigma^2 +\\tau^2 - \\sigma|\\tau|/5.577 } \\qquad\\qquad\\qquad (4)  $$\n",
    "\n",
    "However, from the result below, the approxiamtion (4) {cite}`LAN2001` seems to work better, at least, in our supposed application range. \n",
    "\n",
    "[^1]: See [Exponentially modified Gaussian distribution](https://en.wikipedia.org/wiki/Exponentially_modified_Gaussian_distribution)."
   ]
  },
  {
   "cell_type": "code",
   "execution_count": null,
   "id": "bd41084e",
   "metadata": {},
   "outputs": [],
   "source": [
    "import numpy as np\n",
    "import matplotlib.pyplot as plt\n",
    "from molass.SEC.Models.Simple import egh, e1\n",
    "from molass.Stats.Moment import compute_meanstd\n",
    "fig, (ax1, ax2) = plt.subplots(ncols=2, figsize=(12, 5))\n",
    "x = np.arange(300)\n",
    "\n",
    "vars1 = []\n",
    "vars2 = []\n",
    "vars3 = []\n",
    "\n",
    "tau_list = [0, 5, 10, 15]\n",
    "for tau in tau_list:\n",
    "    y = egh(x, 1, 100, 20, tau)\n",
    "    ax1.plot(x, y, label=f'tau={tau}')\n",
    "    mean, std = compute_meanstd(x, y)\n",
    "    vars1.append(std**2)\n",
    "    vars2.append(20**2 + tau**2 - 20*tau/5.577)\n",
    "    theta = np.arctan(tau/20)\n",
    "    vars3.append((20**2 + 20*tau + tau**2)*e1(theta))\n",
    "\n",
    "ax1.set_title('EGH with different tau')\n",
    "ax1.set_xlabel('Time')\n",
    "ax1.set_ylabel('Concentration')\n",
    "ax1.legend()\n",
    "\n",
    "ax2.plot(tau_list, vars1, 'o-', label='Numerically computed')\n",
    "ax2.plot(tau_list, vars2, 's--', label='Approx. Formula')\n",
    "ax2.plot(tau_list, vars3, 'x--', label='Derived Formula')\n",
    "ax2.set_title(r'Accuracy of Variance Approximation')\n",
    "ax2.set_xlabel('tau')\n",
    "ax2.set_ylabel(r'Variance ($\\bar{M_2}$)')\n",
    "ax2.set_xticks(tau_list)\n",
    "ax2.set_xticklabels(tau_list)\n",
    "ax2.legend()\n",
    "fig.tight_layout()"
   ]
  }
 ],
 "metadata": {
  "kernelspec": {
   "display_name": "Python 3",
   "language": "python",
   "name": "python3"
  },
  "language_info": {
   "codemirror_mode": {
    "name": "ipython",
    "version": 3
   },
   "file_extension": ".py",
   "mimetype": "text/x-python",
   "name": "python",
   "nbconvert_exporter": "python",
   "pygments_lexer": "ipython3",
   "version": "3.12.10"
  }
 },
 "nbformat": 4,
 "nbformat_minor": 5
}
