{
 "cells": [
  {
   "cell_type": "markdown",
   "id": "a3c31cde",
   "metadata": {},
   "source": [
    "# Plate Theory\n",
    "\n",
    "## Introduction\n",
    "\n",
    "Plate theory quantifies the relationship between retention time and chromatographic peak width. In simple terms, the longer the retention time, the wider the peak. The concept of \"theoretical plates,\" introduced by Martin and Synge in 1941 {cite}`Martin1941-sz`, is rooted in the structure of Pascal’s triangle, which illustrates particle distribution across discrete stages. This distribution follows the binomial theorem, and as the number of plates increases, it approaches a Gaussian distribution—representing the symmetric case.\n",
    "\n",
    "In practice, peak shapes can be asymmetric due to various effects. Models such as EMG (Exponentially Modified Gaussian {cite}`Foley_1984` or {cite}`Kalambet2011-us`) and EGH (Exponentially Gaussian Hybrid {cite}`LAN2001`) can be used to fit asymmetric peaks.\n",
    "\n",
    "## Basic Plate Theory\n",
    "\n",
    "The basic plate theory relates the number of theoretical plates, $N$, to the retention time, $t_R$, and the standard deviation of the elution peak, $\\sigma$, as follows:\n",
    "\n",
    "$$ N = \\frac{t_R^2}{\\sigma^2} \\qquad\\qquad\\qquad (1) $$"
   ]
  },
  {
   "cell_type": "markdown",
   "id": "53088333",
   "metadata": {},
   "source": [
    "```{figure} ../../_static/images/theoretical_plates.png\n",
    ":name: theoretical_plates\n",
    "\n",
    "Theoretical Plates\n",
    "```\n",
    "\n",
    "This figure, based on Pascal’s triangle, visually connects the binomial distribution of particles to the concept of plates and the resulting Gaussian peak shape."
   ]
  },
  {
   "cell_type": "markdown",
   "id": "8b53d911",
   "metadata": {},
   "source": [
    "To further illustrate this, consider the accompanying animations. In the first animation, a single species of particles moves down the column, resulting in a single, symmetric elution peak at the bottom. In the second animation, two different species are present, producing two distinct peaks in the elution curve. "
   ]
  },
  {
   "cell_type": "markdown",
   "id": "19ff4f63",
   "metadata": {},
   "source": [
    "<video width=\"100%\" controls autoplay>\n",
    "<source src=\"../../_static/animations/plate_theory.mp4\" type=\"video/mp4\">\n",
    "</video>"
   ]
  },
  {
   "cell_type": "markdown",
   "id": "e764756b",
   "metadata": {},
   "source": [
    "<video width=\"100%\" controls autoplay>\n",
    "<source src=\"../../_static/animations/plate_theory-2.mp4\" type=\"video/mp4\">\n",
    "</video>"
   ]
  },
  {
   "cell_type": "markdown",
   "id": "de5eb319",
   "metadata": {},
   "source": [
    "## Modified Formulae for Asymmetric Models\n",
    "\n",
    "You can interpret the above formula as:\n",
    "\n",
    "$$ N = \\frac{t_R^2}{second \\  central \\  moment} \\qquad\\qquad\\qquad (2) $$\n",
    "\n",
    "Then, it is traightforward that you can extend the rule for asymmetric models as follows. \n",
    "\n",
    "$$  N \\approx \\frac{t_R^2}{\\sigma^2+\\tau^2} \\qquad\\qquad\\qquad\\qquad  (3)  $$\n",
    "\n",
    "$$  N \\approx \\frac{t_R^2}{(\\sigma^2 + \\sigma|\\tau| +\\tau^2)\\epsilon_2} \\qquad\\qquad\\qquad (4)  $$\n",
    "\n",
    "The formulea (3) and (4) correspond to the second central moments (or variances) of EMG and EGH respectively. We prefer to use EGH for modeling because it is \"mathematically simple and numerically stable.\" We also use the formula (3) for simplicity, instead of (4), where it is acceptable as an approximation."
   ]
  }
 ],
 "metadata": {
  "kernelspec": {
   "display_name": "Python 3",
   "language": "python",
   "name": "python3"
  },
  "language_info": {
   "codemirror_mode": {
    "name": "ipython",
    "version": 3
   },
   "file_extension": ".py",
   "mimetype": "text/x-python",
   "name": "python",
   "nbconvert_exporter": "python",
   "pygments_lexer": "ipython3",
   "version": "3.12.10"
  }
 },
 "nbformat": 4,
 "nbformat_minor": 5
}
