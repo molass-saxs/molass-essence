{
 "cells": [
  {
   "cell_type": "markdown",
   "id": "a3c31cde",
   "metadata": {},
   "source": [
    "# Underdeterminedness of EGH Modeling"
   ]
  },
  {
   "cell_type": "code",
   "execution_count": null,
   "id": "4e7ca8eb",
   "metadata": {},
   "outputs": [],
   "source": [
    "from molass import get_version\n",
    "assert get_version() >= '0.7.0', \"This tutorial requires molass version 0.7.0 or higher.\"\n",
    "from molass_data import get_version\n",
    "assert get_version() >= '0.3.0', \"This tutorial requires molass_data version 0.3.0 or higher.\"\n",
    "from molass_data import SAMPLE4\n",
    "from molass.DataObjects import SecSaxsData as SSD\n",
    "ssd = SSD(SAMPLE4)\n",
    "trimmed_ssd = ssd.trimmed_copy()\n",
    "corrected_ssd = trimmed_ssd.corrected_copy()\n",
    "rgcurve = corrected_ssd.xr.compute_rgcurve()\n",
    "decomposition = corrected_ssd.quick_decomposition(num_components=2)\n",
    "plot1 = decomposition.plot_components(rgcurve=rgcurve) "
   ]
  },
  {
   "cell_type": "code",
   "execution_count": null,
   "id": "7a030a99",
   "metadata": {},
   "outputs": [],
   "source": [
    "decomposition2_1 = corrected_ssd.quick_decomposition(num_components=2, randomize=0.01, seed=1)\n",
    "decomposition2_1.plot_components(rgcurve=rgcurve);"
   ]
  },
  {
   "cell_type": "code",
   "execution_count": null,
   "id": "82ae45d4",
   "metadata": {},
   "outputs": [],
   "source": [
    "decomposition3 = corrected_ssd.quick_decomposition(num_components=3)\n",
    "decomposition3.plot_components(rgcurve=rgcurve);"
   ]
  },
  {
   "cell_type": "code",
   "execution_count": null,
   "id": "3d6a3cf4",
   "metadata": {},
   "outputs": [],
   "source": [
    "decomposition3_1 = corrected_ssd.quick_decomposition(num_components=3, randomize=0.01, seed=1)\n",
    "decomposition3_1.plot_components(rgcurve=rgcurve);"
   ]
  },
  {
   "cell_type": "code",
   "execution_count": null,
   "id": "3f3d24de",
   "metadata": {},
   "outputs": [],
   "source": [
    "decomposition3_6 = corrected_ssd.quick_decomposition(num_components=3, randomize=0.01, seed=6, debug=False)\n",
    "decomposition3_6.plot_components(rgcurve=rgcurve);"
   ]
  },
  {
   "cell_type": "code",
   "execution_count": null,
   "id": "b86cd679",
   "metadata": {},
   "outputs": [],
   "source": [
    "run_global_optimization = False\n",
    "if run_global_optimization:\n",
    "    # Global optimization\n",
    "    decomposition3_g = corrected_ssd.quick_decomposition(num_components=3, global_opt=True, sec_constraints=True)\n",
    "    decomposition3_g.plot_components(rgcurve=rgcurve);"
   ]
  },
  {
   "cell_type": "code",
   "execution_count": null,
   "id": "9c9cd5f9",
   "metadata": {},
   "outputs": [],
   "source": [
    "if run_global_optimization:\n",
    "    import matplotlib.pyplot as plt\n",
    "    for k, curve in enumerate(decomposition3_g.xr_ccurves):\n",
    "        print([k], curve.params)\n",
    "        plt.plot(*curve.get_xy())"
   ]
  }
 ],
 "metadata": {
  "kernelspec": {
   "display_name": "Python 3",
   "language": "python",
   "name": "python3"
  },
  "language_info": {
   "codemirror_mode": {
    "name": "ipython",
    "version": 3
   },
   "file_extension": ".py",
   "mimetype": "text/x-python",
   "name": "python",
   "nbconvert_exporter": "python",
   "pygments_lexer": "ipython3",
   "version": "3.12.10"
  }
 },
 "nbformat": 4,
 "nbformat_minor": 5
}
