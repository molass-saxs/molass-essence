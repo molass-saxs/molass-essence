{
 "cells": [
  {
   "cell_type": "markdown",
   "id": "a3c31cde",
   "metadata": {},
   "source": [
    "# Proportional EGH Modeling\n",
    "\n",
    "## How to Modify the Component Proportions\n",
    "\n",
    "First, let us introduce what we think are the standard steps as follows.\n",
    "\n",
    "* Default decomposition\n",
    "* Show the default proportions\n",
    "* Decompose with modified proportions\n",
    "* Confirm by comparison Plot"
   ]
  },
  {
   "cell_type": "code",
   "execution_count": null,
   "id": "07413559",
   "metadata": {},
   "outputs": [],
   "source": [
    "from molass import get_version\n",
    "assert get_version() >= '0.7.0', \"This tutorial requires molass version 0.7.0 or higher.\"\n",
    "from molass_data import SAMPLE1\n",
    "from molass.DataObjects import SecSaxsData as SSD\n",
    "ssd = SSD(SAMPLE1)\n",
    "trimmed_ssd = ssd.trimmed_copy()\n",
    "corrected_ssd = trimmed_ssd.corrected_copy()\n",
    "decomposition = corrected_ssd.quick_decomposition(num_components=3)\n",
    "decomposition.plot_components(title=\"Default Decomposition into 3 Components\");"
   ]
  },
  {
   "cell_type": "code",
   "execution_count": null,
   "id": "cfde9e04",
   "metadata": {},
   "outputs": [],
   "source": [
    "proportions = decomposition.get_proportions()\n",
    "proportions"
   ]
  },
  {
   "cell_type": "code",
   "execution_count": null,
   "id": "92bfa427",
   "metadata": {},
   "outputs": [],
   "source": [
    "modified_decomposition = corrected_ssd.quick_decomposition(num_components=3, proportions=[0.32, 0.20, 0.48])"
   ]
  },
  {
   "cell_type": "code",
   "execution_count": null,
   "id": "d372156c",
   "metadata": {},
   "outputs": [],
   "source": [
    "from molass.PlotUtils.Comparison import comparison_plot\n",
    "comparison_plot([decomposition, modified_decomposition], title=\"Comparison of Decompositions\", show_proportions=True)"
   ]
  },
  {
   "cell_type": "markdown",
   "id": "f1a3dcb4",
   "metadata": {},
   "source": [
    "In this comparison plot, we can compare the propotions easily."
   ]
  },
  {
   "cell_type": "markdown",
   "id": "0ddc5e71",
   "metadata": {},
   "source": [
    "## How to Vary the Component Proportions\n",
    "In the previous example, we could be reasonably confident about the number of components, to a certain extent, based on the observation of the elution curve.\n",
    "However, that is not always the case. To illustrate this, let us consider another example where we cannot be so confident.\n",
    "\n",
    "Below, we will decompose another sample in two ways: first into two components, and then into three components. We will also vary the proportions using another utility function."
   ]
  },
  {
   "cell_type": "markdown",
   "id": "48c364ae",
   "metadata": {},
   "source": [
    "### Preparation\n",
    "\n",
    "For effective observation, we will also prepare the Rg curve."
   ]
  },
  {
   "cell_type": "code",
   "execution_count": null,
   "id": "00da1068",
   "metadata": {},
   "outputs": [],
   "source": [
    "from molass_data import SAMPLE4\n",
    "from molass.DataObjects import SecSaxsData as SSD\n",
    "ssd = SSD(SAMPLE4)\n",
    "trimmed_ssd = ssd.trimmed_copy()\n",
    "corrected_ssd = trimmed_ssd.corrected_copy()\n",
    "rgcurve = corrected_ssd.xr.compute_rgcurve()"
   ]
  },
  {
   "cell_type": "markdown",
   "id": "ca7a667e",
   "metadata": {},
   "source": [
    "### Varying Proportions into Two Components "
   ]
  },
  {
   "cell_type": "code",
   "execution_count": null,
   "id": "5a202a4f",
   "metadata": {},
   "outputs": [],
   "source": [
    "import numpy as np\n",
    "num_trails = 8\n",
    "species1_proportions = np.ones(num_trails) * 3\n",
    "species2_proportions = np.linspace(1, 3, num_trails)\n",
    "proportions = np.array([species1_proportions, species2_proportions]).T\n",
    "proportions"
   ]
  },
  {
   "cell_type": "code",
   "execution_count": null,
   "id": "3c11fffc",
   "metadata": {},
   "outputs": [],
   "source": [
    "corrected_ssd.plot_varied_decompositions(proportions, rgcurve=rgcurve, best=3);"
   ]
  },
  {
   "cell_type": "markdown",
   "id": "b46a2e7d",
   "metadata": {},
   "source": [
    "### Varying Proportions into Three Components "
   ]
  },
  {
   "cell_type": "code",
   "execution_count": null,
   "id": "21137104",
   "metadata": {},
   "outputs": [],
   "source": [
    "species3_proportions = np.ones(num_trails) * 1\n",
    "proportions = np.array([species1_proportions, species2_proportions, species3_proportions]).T\n",
    "proportions"
   ]
  },
  {
   "cell_type": "code",
   "execution_count": null,
   "id": "97496b1d",
   "metadata": {},
   "outputs": [],
   "source": [
    "corrected_ssd.plot_varied_decompositions(proportions, rgcurve=rgcurve, best=3);"
   ]
  }
 ],
 "metadata": {
  "kernelspec": {
   "display_name": "Python 3",
   "language": "python",
   "name": "python3"
  },
  "language_info": {
   "codemirror_mode": {
    "name": "ipython",
    "version": 3
   },
   "file_extension": ".py",
   "mimetype": "text/x-python",
   "name": "python",
   "nbconvert_exporter": "python",
   "pygments_lexer": "ipython3",
   "version": "3.12.10"
  }
 },
 "nbformat": 4,
 "nbformat_minor": 5
}
