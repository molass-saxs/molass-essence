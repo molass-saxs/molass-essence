{
 "cells": [
  {
   "cell_type": "markdown",
   "id": "e66eb023-d244-45fe-a583-9a08c405a996",
   "metadata": {},
   "source": [
    "(guinier_porod_model)=\n",
    "# Guinier-Porod Model\n",
    "\n",
    "* [2010, B. Hammouda; A new Guinier-Porod model](https://journals.iucr.org/paper?ce5078)\n",
    "* caveat: this model is only for tutorials, meaning not realistic as a protein model due to the lack of medium angle regions "
   ]
  },
  {
   "cell_type": "code",
   "execution_count": null,
   "id": "cb0cb1c1",
   "metadata": {},
   "outputs": [],
   "source": [
    "import numpy as np\n",
    "import matplotlib.pyplot as plt\n",
    "from molass.SAXS.Models.Simple import guinier_porod\n",
    "\n",
    "q = np.linspace(0.005, 0.5, 400)\n",
    "G = 1\n",
    "Rg = 35\n",
    "d = 3\n",
    "I, q1 = guinier_porod(q, G, Rg, d, return_also_q1=True)\n",
    "\n",
    "fig, (ax1, ax2) = plt.subplots(ncols=2, figsize=(10, 5))\n",
    "ax2.set_yscale('log')\n",
    "\n",
    "for ax, yscale in ((ax1, 'linear'), (ax2, 'log')):\n",
    "    ax.set_xlabel(\"q (1/Angstrom)\")\n",
    "    ax.set_ylabel(\"Intensity\")\n",
    "    ax.set_title(f\"Scattering Curve ({yscale})\")\n",
    "    ax.plot(q, I)\n",
    "    ax.axvline(q1, linestyle=':', color=\"green\", label='Guinier-Porod Boundary')\n",
    "    ax.legend()\n",
    "\n",
    "fig.tight_layout()"
   ]
  }
 ],
 "metadata": {
  "kernelspec": {
   "display_name": "Python 3",
   "language": "python",
   "name": "python3"
  },
  "language_info": {
   "codemirror_mode": {
    "name": "ipython",
    "version": 3
   },
   "file_extension": ".py",
   "mimetype": "text/x-python",
   "name": "python",
   "nbconvert_exporter": "python",
   "pygments_lexer": "ipython3",
   "version": "3.12.10"
  }
 },
 "nbformat": 4,
 "nbformat_minor": 5
}
